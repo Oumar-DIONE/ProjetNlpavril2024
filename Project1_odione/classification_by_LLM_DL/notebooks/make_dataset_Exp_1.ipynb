{
 "cells": [
  {
   "cell_type": "markdown",
   "metadata": {},
   "source": [
    "# Scripts to download or generate data"
   ]
  },
  {
   "cell_type": "code",
   "execution_count": 1,
   "metadata": {},
   "outputs": [],
   "source": [
    "import boto3\n"
   ]
  },
  {
   "cell_type": "code",
   "execution_count": 2,
   "metadata": {},
   "outputs": [],
   "source": [
    "import yaml\n"
   ]
  },
  {
   "cell_type": "code",
   "execution_count": 3,
   "metadata": {},
   "outputs": [],
   "source": [
    "def load_config(config_path):\n",
    "    with open(config_path, 'r') as config_file:\n",
    "        config = yaml.safe_load(config_file)\n",
    "    return config"
   ]
  },
  {
   "cell_type": "code",
   "execution_count": 4,
   "metadata": {},
   "outputs": [
    {
     "name": "stdout",
     "output_type": "stream",
     "text": [
      "/home/onyxia/work/ProjetNlpavril2024/Project1_odione/classification_by_LLM_DL/config.yaml\n"
     ]
    }
   ],
   "source": [
    "import os\n",
    "import yaml\n",
    "\n",
    "# Obtenir le chemin absolu du répertoire racine du projet\n",
    "curen_file=os.getcwd()\n",
    "project_root =  os.path.abspath(os.path.join(os.path.dirname(curen_file), '..')) \n",
    "\n",
    "# Charger la configuration\n",
    "config_path = os.path.join(project_root, 'config.yaml')\n",
    "with open(config_path, 'r') as f:\n",
    "    config = yaml.safe_load(f)\n",
    "print(config_path)\n"
   ]
  },
  {
   "cell_type": "code",
   "execution_count": 5,
   "metadata": {},
   "outputs": [],
   "source": [
    "aws_access_key_id = config['aws_access_key_id']\n",
    "aws_secret_access_key = config['aws_secret_access_key']\n",
    "aws_session_token = config['aws_session_token']\n",
    "endpoint_url = config['endpoint_url']\n",
    "bucket_name = config['bucket_name']\n",
    "input_s3_filepath1 = config['input_s3_filepath1']\n",
    "output_s3_filepath1 = config['output_s3_filepath1']\n",
    "input_s3_filepath2 = config['input_s3_filepath2']\n",
    "output_s3_filepath2 = config['output_s3_filepath2']\n"
   ]
  },
  {
   "cell_type": "code",
   "execution_count": 10,
   "metadata": {},
   "outputs": [
    {
     "data": {
      "text/plain": [
       "'Socface_Data/Output_transcriptions_with_sex.csv'"
      ]
     },
     "execution_count": 10,
     "metadata": {},
     "output_type": "execute_result"
    }
   ],
   "source": [
    "output_s3_filepath2"
   ]
  },
  {
   "cell_type": "code",
   "execution_count": 7,
   "metadata": {},
   "outputs": [],
   "source": [
    "s3 = boto3.client(\"s3\",endpoint_url=endpoint_url ,aws_access_key_id=aws_access_key_id, aws_secret_access_key=aws_secret_access_key, \n",
    "                  aws_session_token = aws_session_token)"
   ]
  },
  {
   "cell_type": "code",
   "execution_count": 8,
   "metadata": {},
   "outputs": [
    {
     "data": {
      "text/plain": [
       "botocore.client.S3"
      ]
     },
     "execution_count": 8,
     "metadata": {},
     "output_type": "execute_result"
    }
   ],
   "source": [
    "type(s3)"
   ]
  },
  {
   "cell_type": "code",
   "execution_count": 9,
   "metadata": {},
   "outputs": [
    {
     "name": "stdout",
     "output_type": "stream",
     "text": [
      "Existing buckets:\n",
      "  donnees-insee\n",
      "  odione\n"
     ]
    }
   ],
   "source": [
    "# Lister les buckets\n",
    "response = s3.list_buckets()\n",
    "\n",
    "# Afficher les noms des buckets\n",
    "print(\"Existing buckets:\")\n",
    "for bucket in response['Buckets']:\n",
    "    print(f'  {bucket[\"Name\"]}')"
   ]
  },
  {
   "cell_type": "raw",
   "metadata": {
    "vscode": {
     "languageId": "raw"
    }
   },
   "source": [
    "# Lister les objets dans le bucket\n",
    "bucket_name=\"odione\"\n",
    "response = s3.list_objects_v2(Bucket=bucket_name)\n",
    "\n",
    "# Vérifier s'il y a des objets dans le bucket\n",
    "if 'Contents' in response:\n",
    "    print(\"Files in the bucket:\")\n",
    "    for obj in response['Contents']:\n",
    "        print(f'  {obj[\"Key\"]}')\n",
    "else:\n",
    "    print(\"No files found in the bucket.\")\n"
   ]
  },
  {
   "cell_type": "code",
   "execution_count": 11,
   "metadata": {},
   "outputs": [
    {
     "data": {
      "text/plain": [
       "('/home/onyxia/work/ProjetNlpavril2024/Project1_odione/classification_by_LLM_DL/data/firts_name.csv',\n",
       " '/home/onyxia/work/ProjetNlpavril2024/Project1_odione/classification_by_LLM_DL/data/transcriptions.csv')"
      ]
     },
     "execution_count": 11,
     "metadata": {},
     "output_type": "execute_result"
    }
   ],
   "source": [
    "# Télécharger un fichier depuis un bucket\n",
    "# Define local paths for downloading \n",
    "local_Raw_data1 = os.path.join(project_root, 'data/firts_name.csv')\n",
    "local_Raw_data2 = os.path.join(project_root, 'data/transcriptions.csv')\n",
    "local_Raw_data1,local_Raw_data2"
   ]
  },
  {
   "cell_type": "markdown",
   "metadata": {},
   "source": [
    " ## 1 Télécharger depuis MinIo et enregistrer dans ProjetNlpavril2024/Project1_odione/classification_by_LLM_DL/data"
   ]
  },
  {
   "cell_type": "code",
   "execution_count": 12,
   "metadata": {},
   "outputs": [
    {
     "name": "stdout",
     "output_type": "stream",
     "text": [
      "Socface_Data/firstname_with_sex.csv \n",
      "\n",
      "Socface_Data/transcriptions_with_sex.csv\n"
     ]
    }
   ],
   "source": [
    "print(input_s3_filepath1,'\\n')\n",
    "print(input_s3_filepath2)"
   ]
  },
  {
   "cell_type": "code",
   "execution_count": 13,
   "metadata": {},
   "outputs": [],
   "source": [
    "\" le jeu de données firstname_with_sex\"\n",
    "s3.download_file(bucket_name, input_s3_filepath1, local_Raw_data1)\n"
   ]
  },
  {
   "cell_type": "code",
   "execution_count": 14,
   "metadata": {},
   "outputs": [],
   "source": [
    "\" le jeu de données transcriptions_with_sex\"\n",
    "s3.download_file(bucket_name, input_s3_filepath2, local_Raw_data2)\n"
   ]
  },
  {
   "cell_type": "code",
   "execution_count": 15,
   "metadata": {},
   "outputs": [],
   "source": [
    "import pandas as pd\n"
   ]
  },
  {
   "cell_type": "code",
   "execution_count": 16,
   "metadata": {},
   "outputs": [
    {
     "name": "stdout",
     "output_type": "stream",
     "text": [
      "(6946, 3)\n"
     ]
    },
    {
     "data": {
      "text/html": [
       "<div>\n",
       "<style scoped>\n",
       "    .dataframe tbody tr th:only-of-type {\n",
       "        vertical-align: middle;\n",
       "    }\n",
       "\n",
       "    .dataframe tbody tr th {\n",
       "        vertical-align: top;\n",
       "    }\n",
       "\n",
       "    .dataframe thead th {\n",
       "        text-align: right;\n",
       "    }\n",
       "</style>\n",
       "<table border=\"1\" class=\"dataframe\">\n",
       "  <thead>\n",
       "    <tr style=\"text-align: right;\">\n",
       "      <th></th>\n",
       "      <th>firstname</th>\n",
       "      <th>male</th>\n",
       "      <th>female</th>\n",
       "    </tr>\n",
       "  </thead>\n",
       "  <tbody>\n",
       "    <tr>\n",
       "      <th>0</th>\n",
       "      <td>marie</td>\n",
       "      <td>10145</td>\n",
       "      <td>2390322</td>\n",
       "    </tr>\n",
       "    <tr>\n",
       "      <th>1</th>\n",
       "      <td>jean</td>\n",
       "      <td>1869615</td>\n",
       "      <td>6476</td>\n",
       "    </tr>\n",
       "    <tr>\n",
       "      <th>2</th>\n",
       "      <td>pierre</td>\n",
       "      <td>1475841</td>\n",
       "      <td>5047</td>\n",
       "    </tr>\n",
       "  </tbody>\n",
       "</table>\n",
       "</div>"
      ],
      "text/plain": [
       "  firstname     male   female\n",
       "0     marie    10145  2390322\n",
       "1      jean  1869615     6476\n",
       "2    pierre  1475841     5047"
      ]
     },
     "execution_count": 16,
     "metadata": {},
     "output_type": "execute_result"
    }
   ],
   "source": [
    "data1=pd.read_csv(local_Raw_data1,sep=';')\n",
    "print(data1.shape)\n",
    "data1.head(3)"
   ]
  },
  {
   "cell_type": "code",
   "execution_count": 17,
   "metadata": {},
   "outputs": [
    {
     "name": "stdout",
     "output_type": "stream",
     "text": [
      "(241, 4)\n"
     ]
    },
    {
     "data": {
      "text/html": [
       "<div>\n",
       "<style scoped>\n",
       "    .dataframe tbody tr th:only-of-type {\n",
       "        vertical-align: middle;\n",
       "    }\n",
       "\n",
       "    .dataframe tbody tr th {\n",
       "        vertical-align: top;\n",
       "    }\n",
       "\n",
       "    .dataframe thead th {\n",
       "        text-align: right;\n",
       "    }\n",
       "</style>\n",
       "<table border=\"1\" class=\"dataframe\">\n",
       "  <thead>\n",
       "    <tr style=\"text-align: right;\">\n",
       "      <th></th>\n",
       "      <th>subject_line</th>\n",
       "      <th>groundtruth</th>\n",
       "      <th>prediction</th>\n",
       "      <th>sex</th>\n",
       "    </tr>\n",
       "  </thead>\n",
       "  <tbody>\n",
       "    <tr>\n",
       "      <th>0</th>\n",
       "      <td>ebb26ada-044c-4c62-9dbc-a9c8d505d31c</td>\n",
       "      <td>surname: Chardon firstname: Marie occupation: ...</td>\n",
       "      <td>nom: Chardon prénom: Marie date_naissance: 30 ...</td>\n",
       "      <td>femme</td>\n",
       "    </tr>\n",
       "    <tr>\n",
       "      <th>1</th>\n",
       "      <td>338496f5-e4ca-43ac-aa5c-429cb3f6ac00</td>\n",
       "      <td>surname: Lhopital firstname: Louis-Jean occupa...</td>\n",
       "      <td>nom: Lhopital prénom: Louis Jean date_naissanc...</td>\n",
       "      <td>homme</td>\n",
       "    </tr>\n",
       "    <tr>\n",
       "      <th>2</th>\n",
       "      <td>e6a279da-9b6f-4f49-b498-64857bc50d1e</td>\n",
       "      <td>surname: Papin firstname: Marie occupation: id...</td>\n",
       "      <td>nom: Pyrin prénom: Marie date_naissance: 55 re...</td>\n",
       "      <td>femme</td>\n",
       "    </tr>\n",
       "  </tbody>\n",
       "</table>\n",
       "</div>"
      ],
      "text/plain": [
       "                           subject_line  \\\n",
       "0  ebb26ada-044c-4c62-9dbc-a9c8d505d31c   \n",
       "1  338496f5-e4ca-43ac-aa5c-429cb3f6ac00   \n",
       "2  e6a279da-9b6f-4f49-b498-64857bc50d1e   \n",
       "\n",
       "                                         groundtruth  \\\n",
       "0  surname: Chardon firstname: Marie occupation: ...   \n",
       "1  surname: Lhopital firstname: Louis-Jean occupa...   \n",
       "2  surname: Papin firstname: Marie occupation: id...   \n",
       "\n",
       "                                          prediction    sex  \n",
       "0  nom: Chardon prénom: Marie date_naissance: 30 ...  femme  \n",
       "1  nom: Lhopital prénom: Louis Jean date_naissanc...  homme  \n",
       "2  nom: Pyrin prénom: Marie date_naissance: 55 re...  femme  "
      ]
     },
     "execution_count": 17,
     "metadata": {},
     "output_type": "execute_result"
    }
   ],
   "source": [
    "data2=pd.read_csv(local_Raw_data2,sep=',')\n",
    "print(data2.shape)\n",
    "data2.head(3)"
   ]
  }
 ],
 "metadata": {
  "kernelspec": {
   "display_name": "virtual_env_project1_odione",
   "language": "python",
   "name": "virtual_env_project1_odione"
  },
  "language_info": {
   "codemirror_mode": {
    "name": "ipython",
    "version": 3
   },
   "file_extension": ".py",
   "mimetype": "text/x-python",
   "name": "python",
   "nbconvert_exporter": "python",
   "pygments_lexer": "ipython3",
   "version": "3.12.2"
  }
 },
 "nbformat": 4,
 "nbformat_minor": 2
}
