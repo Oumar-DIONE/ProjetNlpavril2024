{
 "cells": [
  {
   "cell_type": "markdown",
   "metadata": {},
   "source": [
    " #  5 Build Model "
   ]
  },
  {
   "cell_type": "code",
   "execution_count": 1,
   "metadata": {},
   "outputs": [],
   "source": [
    "import torch\n",
    "import torch.nn as nn\n",
    "import torch.optim as optim\n",
    "from torch.utils.data import DataLoader, TensorDataset  \n",
    "import pandas as pd"
   ]
  },
  {
   "cell_type": "code",
   "execution_count": 2,
   "metadata": {},
   "outputs": [],
   "source": [
    "import os\n",
    "import sys\n",
    "src_dir = os.path.abspath('../src')\n",
    "sys.path.append(src_dir)\n",
    "\n"
   ]
  },
  {
   "cell_type": "markdown",
   "metadata": {},
   "source": [
    "# 5.1 : Model 1 : Dans ce modéle nous allons utiliser 4 couches de reseau dense"
   ]
  },
  {
   "cell_type": "code",
   "execution_count": 3,
   "metadata": {},
   "outputs": [],
   "source": [
    "from features import make_fetaure20"
   ]
  },
  {
   "cell_type": "code",
   "execution_count": 4,
   "metadata": {},
   "outputs": [
    {
     "name": "stdout",
     "output_type": "stream",
     "text": [
      " Pour le dataset : Firstname \n",
      "\n",
      "shape (6946, 3) \n",
      "\n",
      " Pour le dataset : Transcriptions \n",
      "\n",
      "shape (241, 4)\n",
      "\n",
      "\n",
      " Train : (192,) (192,)\n",
      " Test : (49,) (49,)\n",
      "well done\n"
     ]
    }
   ],
   "source": [
    "# 1. Charger les données depuis le DataFrame\n",
    "(x_train,y_train),(x_test,y_test)=make_fetaure20.preprocess_data()"
   ]
  },
  {
   "cell_type": "code",
   "execution_count": 7,
   "metadata": {},
   "outputs": [
    {
     "name": "stdout",
     "output_type": "stream",
     "text": [
      "input_ids \n",
      "\n",
      "labels\n"
     ]
    }
   ],
   "source": [
    "# afficher les noms des colonnes de nos inputs et output\n",
    "print(x_train.name,'\\n')\n",
    "print(y_train.name)"
   ]
  },
  {
   "cell_type": "code",
   "execution_count": 8,
   "metadata": {},
   "outputs": [
    {
     "name": "stdout",
     "output_type": "stream",
     "text": [
      "<class 'pandas.core.series.Series'>\n",
      "Index: 192 entries, etienne to francoise\n",
      "Series name: input_ids\n",
      "Non-Null Count  Dtype \n",
      "--------------  ----- \n",
      "192 non-null    object\n",
      "dtypes: object(1)\n",
      "memory usage: 7.1+ KB\n"
     ]
    }
   ],
   "source": [
    "x_train.info()"
   ]
  },
  {
   "cell_type": "code",
   "execution_count": 9,
   "metadata": {},
   "outputs": [
    {
     "data": {
      "text/plain": [
       "<torch._C.Generator at 0x7fe9d23196f0>"
      ]
     },
     "execution_count": 9,
     "metadata": {},
     "output_type": "execute_result"
    }
   ],
   "source": [
    "# Définir la seed pour PyTorch\n",
    "torch.manual_seed(1996)"
   ]
  },
  {
   "cell_type": "code",
   "execution_count": 13,
   "metadata": {},
   "outputs": [],
   "source": [
    "# Convertir les données en tenseurs PyTorch\n",
    "tenseurs = torch.stack(x_train.tolist())\n",
    "labels = torch.tensor(y_train.tolist())"
   ]
  },
  {
   "cell_type": "code",
   "execution_count": 20,
   "metadata": {},
   "outputs": [
    {
     "data": {
      "text/plain": [
       "70"
      ]
     },
     "execution_count": 20,
     "metadata": {},
     "output_type": "execute_result"
    }
   ],
   "source": [
    "input_len=max(len(tenseurs[i]) for i in range(len(tenseurs)))\n",
    "input_len"
   ]
  },
  {
   "cell_type": "code",
   "execution_count": 21,
   "metadata": {},
   "outputs": [],
   "source": [
    "\n",
    "# Définir l'architecture du réseau de neurones\n",
    "class classe_model_3_LAYERS(nn.Module):\n",
    "    \"Cette méthode __init__ est le constructeur de la classe et est utilisée pour définir les couches et les paramètres du modèle.\"\n",
    "    def __init__(self,l1,l2,l3):\n",
    "        super(classe_model_3_LAYERS, self).__init__()\n",
    "        self.l1=l1\n",
    "        self.l2=l2\n",
    "        self.l3=l3\n",
    "        self.couche_lineaire_1 = nn.Linear(input_len, l1)  # Couche linéaire avec input_len entrées et l1 sorties\n",
    "        self.couche_lineaire_2 = nn.Linear(l1, l2)  # Couche linéaire avec l1 entrées et l2 sorties\n",
    "        self.couche_lineaire_3 = nn.Linear(l2, l3)  # Couche linéaire avec l2 entrées et l1 sorties\n",
    "\n",
    "        self.couche_lineaire_4 = nn.Linear(l3, 2)   # Couche linéaire avec l3 entrées et 2 sorties (2 classes)\n",
    "    \"Cette forward définit comment les données d'entrée traversent les couches définies pour produire une sortie.\"\n",
    "\n",
    "    def forward(self, x):\n",
    "        x = torch.relu(self.couche_lineaire_1(x.float()))  # Convertir les tenseurs d'entrée en type torch.float\n",
    "        x = self.couche_lineaire_2(x)\n",
    "        x = self.couche_lineaire_3(x)\n",
    "\n",
    "        x = self.couche_lineaire_4(x)             # Pas de fonction d'activation pour la dernière couche\n",
    "        return x"
   ]
  },
  {
   "cell_type": "code",
   "execution_count": 22,
   "metadata": {},
   "outputs": [],
   "source": [
    "# Créer un DataLoader pour les données d'entraînement\n",
    "dataset = TensorDataset(tenseurs, labels)\n",
    "train_loader = DataLoader(dataset, batch_size=10, shuffle=True)\n",
    "\n",
    "# Initialiser le modèle\n",
    "model1 = classe_model_3_LAYERS(l1=50,l2=30,l3=10)"
   ]
  },
  {
   "cell_type": "code",
   "execution_count": 23,
   "metadata": {},
   "outputs": [],
   "source": [
    "# Définir la fonction de perte et l'optimiseur\n",
    "criterion = nn.CrossEntropyLoss()  # Fonction de perte pour les problèmes de classification\n",
    "optimizer = optim.Adam(model1.parameters(), lr=0.001)  # Optimiseur Adam avec un taux d'apprentissage de 0.001"
   ]
  },
  {
   "cell_type": "code",
   "execution_count": 26,
   "metadata": {},
   "outputs": [
    {
     "name": "stdout",
     "output_type": "stream",
     "text": [
      "Accuracy decreased. Stopping training.\n",
      "Epoch [7/100], Accuracy: 0.8576388888888888\n"
     ]
    }
   ],
   "source": [
    "\n",
    "num_epochs=100\n",
    "# Entraîner le modèle\n",
    "# Variables pour le calcul de l'exactitude\n",
    "total_correct = 0\n",
    "total_samples = 0\n",
    "\n",
    "# Initialiser l'exactitude précédente à zéro\n",
    "prev_accuracy = 0.0\n",
    "\n",
    "# Entraîner le modèle\n",
    "for epoch in range(num_epochs):\n",
    "    for batch_tenseurs, batch_labels in train_loader:\n",
    "        optimizer.zero_grad()\n",
    "        predictions = model1(batch_tenseurs)\n",
    "        loss = criterion(predictions, batch_labels)\n",
    "        loss.backward()\n",
    "        optimizer.step()\n",
    "\n",
    "        # Calculer les prédictions correctes\n",
    "        _, predicted = torch.max(predictions, 1)\n",
    "        total_correct += (predicted == batch_labels).sum().item()\n",
    "        total_samples += batch_labels.size(0)\n",
    "\n",
    "    # Calculer l'exactitude à la fin de chaque époque\n",
    "    accuracy = total_correct / total_samples\n",
    "    #print(f'Epoch [{epoch+1}/{num_epochs}], Accuracy: {accuracy}')\n",
    "\n",
    "    # Vérifier si l'exactitude diminue\n",
    "    if accuracy < prev_accuracy:\n",
    "        print(\"Accuracy decreased. Stopping training.\")\n",
    "        print(f'Epoch [{epoch+1}/{num_epochs}], Accuracy: {prev_accuracy}')\n",
    "\n",
    "        break\n",
    "    elif epoch+1==num_epochs:\n",
    "        print(f'Epoch [{epoch+1}/{num_epochs}], Accuracy: {accuracy}')\n",
    "    \n",
    "    # Mettre à jour l'exactitude précédente\n",
    "    prev_accuracy = accuracy\n",
    "    #performance1=pd.DataFrame({'Model_name':\"model1\",\"data\":\"Train\",\"Accuracy\":prev_accuracy})\n",
    "    performance1=pd.DataFrame([\"model1\",\"Train\",prev_accuracy])\n",
    "\n",
    "    performance1\n",
    "\n"
   ]
  }
 ],
 "metadata": {
  "kernelspec": {
   "display_name": "virtual_env_project1_odione",
   "language": "python",
   "name": "virtual_env_project1_odione"
  },
  "language_info": {
   "codemirror_mode": {
    "name": "ipython",
    "version": 3
   },
   "file_extension": ".py",
   "mimetype": "text/x-python",
   "name": "python",
   "nbconvert_exporter": "python",
   "pygments_lexer": "ipython3",
   "version": "3.12.2"
  }
 },
 "nbformat": 4,
 "nbformat_minor": 2
}
