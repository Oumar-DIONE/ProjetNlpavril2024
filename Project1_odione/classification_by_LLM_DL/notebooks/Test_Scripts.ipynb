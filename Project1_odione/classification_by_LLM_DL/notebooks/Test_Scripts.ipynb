{
 "cells": [
  {
   "cell_type": "code",
   "execution_count": 17,
   "metadata": {},
   "outputs": [],
   "source": [
    "import src.data.make_dataset   as make_dataset"
   ]
  },
  {
   "cell_type": "code",
   "execution_count": 18,
   "metadata": {},
   "outputs": [
    {
     "name": "stdout",
     "output_type": "stream",
     "text": [
      " Pour le dataset : Firstname \n",
      "\n",
      "shape (6946, 3) \n",
      "\n",
      " Pour le dataset : Transcriptions \n",
      "\n",
      "shape (241, 1)\n",
      "\n",
      "\n"
     ]
    },
    {
     "data": {
      "text/plain": [
       "(     firstname     male   female\n",
       " 0        marie    10145  2390322\n",
       " 1         jean  1869615     6476\n",
       " 2       pierre  1475841     5047\n",
       " 3       jeanne     1765  1097397\n",
       " 4     françois  1089009     5951\n",
       " ...        ...      ...      ...\n",
       " 6941   winnocq       10        0\n",
       " 6942     xyste        9        1\n",
       " 6943      zara        0       10\n",
       " 6944  zéraphin       10        0\n",
       " 6945     zimle        0       10\n",
       " \n",
       " [6946 rows x 3 columns],\n",
       "                subject_line,groundtruth,prediction,sex\n",
       " 0    ebb26ada-044c-4c62-9dbc-a9c8d505d31c,surname: ...\n",
       " 1    338496f5-e4ca-43ac-aa5c-429cb3f6ac00,surname: ...\n",
       " 2    e6a279da-9b6f-4f49-b498-64857bc50d1e,surname: ...\n",
       " 3    7534deca-39e8-4f00-be17-c12460015de1,surname: ...\n",
       " 4    ef334a66-a504-418a-9872-e7c9db923488,surname: ...\n",
       " ..                                                 ...\n",
       " 236  1d92738a-cffe-4aee-ab10-db04c37f7405,surname: ...\n",
       " 237  09440055-7972-4135-a537-e6c5a1f2aeb2,surname: ...\n",
       " 238  4d387278-12c3-410c-bdf0-c5c603479764,surname: ...\n",
       " 239  623b95de-f87c-4844-a7f7-361088eed83a,surname: ...\n",
       " 240  26d7839c-16a1-486e-9736-83e500fb72e5,surname: ...\n",
       " \n",
       " [241 rows x 1 columns])"
      ]
     },
     "execution_count": 18,
     "metadata": {},
     "output_type": "execute_result"
    }
   ],
   "source": [
    "make_dataset.get_data()"
   ]
  },
  {
   "cell_type": "code",
   "execution_count": 32,
   "metadata": {},
   "outputs": [],
   "source": [
    "import src.data.data_make as my_fun"
   ]
  },
  {
   "cell_type": "code",
   "execution_count": 33,
   "metadata": {},
   "outputs": [
    {
     "data": {
      "text/plain": [
       "<module 'src.data.data_make' from '/home/onyxia/work/ProjetNlpavril2024/Project1_odione/classification_by_LLM_DL/src/data/data_make.py'>"
      ]
     },
     "execution_count": 33,
     "metadata": {},
     "output_type": "execute_result"
    }
   ],
   "source": [
    "my_fun"
   ]
  }
 ],
 "metadata": {
  "kernelspec": {
   "display_name": "virtual_env_project1_odione",
   "language": "python",
   "name": "virtual_env_project1_odione"
  },
  "language_info": {
   "codemirror_mode": {
    "name": "ipython",
    "version": 3
   },
   "file_extension": ".py",
   "mimetype": "text/x-python",
   "name": "python",
   "nbconvert_exporter": "python",
   "pygments_lexer": "ipython3",
   "version": "3.12.2"
  }
 },
 "nbformat": 4,
 "nbformat_minor": 2
}
