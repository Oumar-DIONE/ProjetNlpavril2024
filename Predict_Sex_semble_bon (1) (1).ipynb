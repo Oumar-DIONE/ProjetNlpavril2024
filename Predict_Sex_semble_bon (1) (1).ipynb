{
 "cells": [
  {
   "cell_type": "markdown",
   "id": "f4826c03-1522-420a-919c-f940b2cfdaca",
   "metadata": {},
   "source": [
    "# 1 Import and Init"
   ]
  },
  {
   "cell_type": "code",
   "execution_count": 5,
   "id": "2924d274-1a4d-4f98-afd5-fff6e32eaa24",
   "metadata": {},
   "outputs": [],
   "source": [
    "import warnings\n",
    "warnings.filterwarnings(\"ignore\")\n",
    "import numpy as np \n",
    "import pandas as pd \n",
    "import random as rd\n",
    "import torch\n",
    "from transformers import BertTokenizer, BertModel"
   ]
  },
  {
   "cell_type": "code",
   "execution_count": 9,
   "id": "e820aab2-b145-4bf2-9f92-2fab8af1b1f1",
   "metadata": {},
   "outputs": [],
   "source": [
    "# fixer les graines de générateurs de nombres aléatoires afin d'avoir des résultats reproductibles\n",
    "seed=1996\n",
    "np.random.seed(seed)\n",
    "rd.seed(seed)"
   ]
  },
  {
   "cell_type": "code",
   "execution_count": 10,
   "id": "903adc21-ec44-48cd-93ab-3b459a2e2abb",
   "metadata": {},
   "outputs": [],
   "source": [
    "work_dir=\"/home/onyxia/work\"\n",
    "data_filename=\"Test_word_embedding.csv\"\n",
    "firstname=\"firstname_with_sex.csv\"\n",
    "transcriptions=\"transcriptions_with_sex.csv\"\n",
    "# modéle\n",
    "n_max_token=12"
   ]
  },
  {
   "cell_type": "markdown",
   "id": "5916e4ac-c855-47b0-9606-6429a66cdcbf",
   "metadata": {},
   "source": [
    "# 2 Loaded and preprocessing data"
   ]
  },
  {
   "cell_type": "code",
   "execution_count": 65,
   "id": "626ad418-e3ab-4a0a-9926-c4123f001f1f",
   "metadata": {},
   "outputs": [],
   "source": [
    "#df=pd.read_csv(data_filename)\n",
    "FN_df=pd.read_csv(firstname,sep=\";\")\n",
    "Trs_df=pd.read_csv(transcriptions)"
   ]
  },
  {
   "cell_type": "code",
   "execution_count": 13,
   "id": "4604cb20-7dca-4b72-979a-6fa6d5d0d2fd",
   "metadata": {},
   "outputs": [
    {
     "data": {
      "text/html": [
       "<div>\n",
       "<style scoped>\n",
       "    .dataframe tbody tr th:only-of-type {\n",
       "        vertical-align: middle;\n",
       "    }\n",
       "\n",
       "    .dataframe tbody tr th {\n",
       "        vertical-align: top;\n",
       "    }\n",
       "\n",
       "    .dataframe thead th {\n",
       "        text-align: right;\n",
       "    }\n",
       "</style>\n",
       "<table border=\"1\" class=\"dataframe\">\n",
       "  <thead>\n",
       "    <tr style=\"text-align: right;\">\n",
       "      <th></th>\n",
       "      <th>subject_line</th>\n",
       "      <th>groundtruth</th>\n",
       "      <th>prediction</th>\n",
       "      <th>sex</th>\n",
       "    </tr>\n",
       "  </thead>\n",
       "  <tbody>\n",
       "    <tr>\n",
       "      <th>0</th>\n",
       "      <td>ebb26ada-044c-4c62-9dbc-a9c8d505d31c</td>\n",
       "      <td>surname: Chardon firstname: Marie occupation: ...</td>\n",
       "      <td>nom: Chardon prénom: Marie date_naissance: 30 ...</td>\n",
       "      <td>femme</td>\n",
       "    </tr>\n",
       "    <tr>\n",
       "      <th>1</th>\n",
       "      <td>338496f5-e4ca-43ac-aa5c-429cb3f6ac00</td>\n",
       "      <td>surname: Lhopital firstname: Louis-Jean occupa...</td>\n",
       "      <td>nom: Lhopital prénom: Louis Jean date_naissanc...</td>\n",
       "      <td>homme</td>\n",
       "    </tr>\n",
       "    <tr>\n",
       "      <th>2</th>\n",
       "      <td>e6a279da-9b6f-4f49-b498-64857bc50d1e</td>\n",
       "      <td>surname: Papin firstname: Marie occupation: id...</td>\n",
       "      <td>nom: Pyrin prénom: Marie date_naissance: 55 re...</td>\n",
       "      <td>femme</td>\n",
       "    </tr>\n",
       "  </tbody>\n",
       "</table>\n",
       "</div>"
      ],
      "text/plain": [
       "                           subject_line  \\\n",
       "0  ebb26ada-044c-4c62-9dbc-a9c8d505d31c   \n",
       "1  338496f5-e4ca-43ac-aa5c-429cb3f6ac00   \n",
       "2  e6a279da-9b6f-4f49-b498-64857bc50d1e   \n",
       "\n",
       "                                         groundtruth  \\\n",
       "0  surname: Chardon firstname: Marie occupation: ...   \n",
       "1  surname: Lhopital firstname: Louis-Jean occupa...   \n",
       "2  surname: Papin firstname: Marie occupation: id...   \n",
       "\n",
       "                                          prediction    sex  \n",
       "0  nom: Chardon prénom: Marie date_naissance: 30 ...  femme  \n",
       "1  nom: Lhopital prénom: Louis Jean date_naissanc...  homme  \n",
       "2  nom: Pyrin prénom: Marie date_naissance: 55 re...  femme  "
      ]
     },
     "execution_count": 13,
     "metadata": {},
     "output_type": "execute_result"
    }
   ],
   "source": [
    "Trs_df.head(3)"
   ]
  },
  {
   "cell_type": "code",
   "execution_count": 14,
   "id": "7110d69e-ce9c-46d7-b480-53e84433a0e2",
   "metadata": {},
   "outputs": [],
   "source": [
    "# fonction pour transformer en minuscule les chaînes d ecaractéres et supprimers les accents"
   ]
  },
  {
   "cell_type": "code",
   "execution_count": 16,
   "id": "92e1f443-5404-4f17-806a-90c5514e4d1d",
   "metadata": {},
   "outputs": [],
   "source": [
    "from unidecode import unidecode\n",
    "def str_lower(string):\n",
    "# Convertir en minuscules et supprimer les accents\n",
    "     chaine_traitee = unidecode(string.lower())\n",
    "     return chaine_traitee\n",
    "\n"
   ]
  },
  {
   "cell_type": "code",
   "execution_count": null,
   "id": "2d148d80-dd15-40e9-bd8c-8f93e483c4b3",
   "metadata": {},
   "outputs": [],
   "source": [
    "# Transformation en minuscule des noms et suppression des accent\n",
    "FN_df.firstname=FN_df.firstname.apply(lambda x: str_lower(x))"
   ]
  },
  {
   "cell_type": "markdown",
   "id": "265f0704-64e8-45d0-b27e-d15b11802b5f",
   "metadata": {},
   "source": [
    "## 2.1 firstname_with_sex"
   ]
  },
  {
   "cell_type": "code",
   "execution_count": 17,
   "id": "81f7797e-11c8-4df9-af1e-703a8944a1c6",
   "metadata": {},
   "outputs": [
    {
     "data": {
      "text/html": [
       "<div>\n",
       "<style scoped>\n",
       "    .dataframe tbody tr th:only-of-type {\n",
       "        vertical-align: middle;\n",
       "    }\n",
       "\n",
       "    .dataframe tbody tr th {\n",
       "        vertical-align: top;\n",
       "    }\n",
       "\n",
       "    .dataframe thead th {\n",
       "        text-align: right;\n",
       "    }\n",
       "</style>\n",
       "<table border=\"1\" class=\"dataframe\">\n",
       "  <thead>\n",
       "    <tr style=\"text-align: right;\">\n",
       "      <th></th>\n",
       "      <th>firstname</th>\n",
       "      <th>male</th>\n",
       "      <th>female</th>\n",
       "    </tr>\n",
       "  </thead>\n",
       "  <tbody>\n",
       "    <tr>\n",
       "      <th>0</th>\n",
       "      <td>marie</td>\n",
       "      <td>10145</td>\n",
       "      <td>2390322</td>\n",
       "    </tr>\n",
       "    <tr>\n",
       "      <th>1</th>\n",
       "      <td>jean</td>\n",
       "      <td>1869615</td>\n",
       "      <td>6476</td>\n",
       "    </tr>\n",
       "  </tbody>\n",
       "</table>\n",
       "</div>"
      ],
      "text/plain": [
       "  firstname     male   female\n",
       "0     marie    10145  2390322\n",
       "1      jean  1869615     6476"
      ]
     },
     "execution_count": 17,
     "metadata": {},
     "output_type": "execute_result"
    }
   ],
   "source": [
    "FN_df.head(2)"
   ]
  },
  {
   "cell_type": "code",
   "execution_count": 68,
   "id": "8487b697-d48d-418e-93ba-364577bf073c",
   "metadata": {},
   "outputs": [],
   "source": [
    "# definition de la variable Male_name_fred qui represente pour chaque,la part d'homme d'homme le portant\n",
    "FN_df[\"Male_name_fred\"]=FN_df[\"male\"]/(FN_df[\"male\"]+FN_df[\"female\"])"
   ]
  },
  {
   "cell_type": "code",
   "execution_count": 19,
   "id": "b031b8ac-0bd9-4a7a-9482-e26123e660a1",
   "metadata": {},
   "outputs": [
    {
     "data": {
      "text/html": [
       "<div>\n",
       "<style scoped>\n",
       "    .dataframe tbody tr th:only-of-type {\n",
       "        vertical-align: middle;\n",
       "    }\n",
       "\n",
       "    .dataframe tbody tr th {\n",
       "        vertical-align: top;\n",
       "    }\n",
       "\n",
       "    .dataframe thead th {\n",
       "        text-align: right;\n",
       "    }\n",
       "</style>\n",
       "<table border=\"1\" class=\"dataframe\">\n",
       "  <thead>\n",
       "    <tr style=\"text-align: right;\">\n",
       "      <th></th>\n",
       "      <th>firstname</th>\n",
       "      <th>male</th>\n",
       "      <th>female</th>\n",
       "      <th>Male_name_fred</th>\n",
       "    </tr>\n",
       "  </thead>\n",
       "  <tbody>\n",
       "    <tr>\n",
       "      <th>0</th>\n",
       "      <td>marie</td>\n",
       "      <td>10145</td>\n",
       "      <td>2390322</td>\n",
       "      <td>0.004226</td>\n",
       "    </tr>\n",
       "    <tr>\n",
       "      <th>1</th>\n",
       "      <td>jean</td>\n",
       "      <td>1869615</td>\n",
       "      <td>6476</td>\n",
       "      <td>0.996548</td>\n",
       "    </tr>\n",
       "    <tr>\n",
       "      <th>2</th>\n",
       "      <td>pierre</td>\n",
       "      <td>1475841</td>\n",
       "      <td>5047</td>\n",
       "      <td>0.996592</td>\n",
       "    </tr>\n",
       "  </tbody>\n",
       "</table>\n",
       "</div>"
      ],
      "text/plain": [
       "  firstname     male   female  Male_name_fred\n",
       "0     marie    10145  2390322        0.004226\n",
       "1      jean  1869615     6476        0.996548\n",
       "2    pierre  1475841     5047        0.996592"
      ]
     },
     "execution_count": 19,
     "metadata": {},
     "output_type": "execute_result"
    }
   ],
   "source": [
    "FN_df.head(3)"
   ]
  },
  {
   "cell_type": "code",
   "execution_count": 69,
   "id": "6eb935d0-8121-4392-ba11-88134c7335cd",
   "metadata": {},
   "outputs": [],
   "source": [
    "# recupérer et stock les noms et frequences associées\n",
    "Probas=FN_df[\"Male_name_fred\"].values\n",
    "Names=FN_df[\"firstname\"].values"
   ]
  },
  {
   "cell_type": "code",
   "execution_count": 70,
   "id": "9ef9b41d-4069-445c-addb-b91b0d9ea966",
   "metadata": {},
   "outputs": [
    {
     "data": {
      "text/plain": [
       "array([0.00422626, 0.99654814, 0.99659191, 0.00160577, 0.9945651 ])"
      ]
     },
     "execution_count": 70,
     "metadata": {},
     "output_type": "execute_result"
    }
   ],
   "source": [
    "Probas[0:5]"
   ]
  },
  {
   "cell_type": "code",
   "execution_count": 46,
   "id": "0fca9009-d705-4a34-91d9-c40b62ba63dd",
   "metadata": {},
   "outputs": [
    {
     "data": {
      "text/plain": [
       "array(['marie', 'jean', 'pierre', 'jeanne', 'francois'], dtype=object)"
      ]
     },
     "execution_count": 46,
     "metadata": {},
     "output_type": "execute_result"
    }
   ],
   "source": [
    "Names[0:5]"
   ]
  },
  {
   "cell_type": "markdown",
   "id": "cff03e44-25a5-4a10-9d05-aed2380dd772",
   "metadata": {},
   "source": [
    "## 2.2 Preprocessing on transcriptions_with_sex"
   ]
  },
  {
   "cell_type": "code",
   "execution_count": 71,
   "id": "68b614b9-58b9-4e29-bd98-d515143e49cf",
   "metadata": {},
   "outputs": [
    {
     "data": {
      "text/plain": [
       "Index(['subject_line', 'groundtruth', 'prediction', 'sex'], dtype='object')"
      ]
     },
     "execution_count": 71,
     "metadata": {},
     "output_type": "execute_result"
    }
   ],
   "source": [
    "# suppression de la colonne subject_line qui n'a aucun n'intéret pour l\"tude finale\n",
    "columns=Trs_df.columns\n",
    "columns"
   ]
  },
  {
   "cell_type": "code",
   "execution_count": 72,
   "id": "83c45508-7b6a-458f-8220-2f9d4601b84c",
   "metadata": {},
   "outputs": [],
   "source": [
    "Trs_df=Trs_df.drop(['subject_line'],axis=1)"
   ]
  },
  {
   "cell_type": "code",
   "execution_count": 73,
   "id": "0f21e420-5fb6-4152-b491-4b80a6e45faf",
   "metadata": {},
   "outputs": [],
   "source": [
    "# Transformation en minuscule des noms et suppression des accent\n",
    "Trs_df.groundtruth=Trs_df.groundtruth.apply(lambda x: str_lower(x))\n",
    "Trs_df.prediction=Trs_df.prediction.apply(lambda x: str_lower(x))"
   ]
  },
  {
   "cell_type": "code",
   "execution_count": 27,
   "id": "2e4d8956-9d27-46cd-a0d2-e7c419f79f92",
   "metadata": {},
   "outputs": [],
   "source": [
    "# Suppression de caractéres speciaux"
   ]
  },
  {
   "cell_type": "code",
   "execution_count": 74,
   "id": "eb355c4b-2d31-42ad-82b7-823b76ca6878",
   "metadata": {},
   "outputs": [
    {
     "data": {
      "text/plain": [
       "('nom: chardon prenom: marie date_naissance: 30 lieux_naissance: \" ',\n",
       " 'nom: pyrin prenom: marie date_naissance: 55 relation: d ')"
      ]
     },
     "execution_count": 74,
     "metadata": {},
     "output_type": "execute_result"
    }
   ],
   "source": [
    "Trs_df.prediction.values[0],Trs_df.prediction.values[2]"
   ]
  },
  {
   "cell_type": "code",
   "execution_count": 75,
   "id": "73a292bd-de1d-4ad0-8b4f-02fd80743b0c",
   "metadata": {},
   "outputs": [],
   "source": [
    "# Caractères spéciaux à supprimer\n",
    "special_chars = ['\"', \"''\", '°', ';', '\\\\', '(', ')']\n",
    "\n",
    "# Définir une fonction pour supprimer les caractères spéciaux\n",
    "def remove_special_chars(chaine):\n",
    "    for char in special_chars:\n",
    "        chaine = chaine.replace(char, '')\n",
    "    return chaine\n",
    "\n",
    "# Appliquer la fonction à chaque élément du DataFrame\n",
    "Trs_df = Trs_df.applymap(remove_special_chars)\n"
   ]
  },
  {
   "cell_type": "code",
   "execution_count": 76,
   "id": "451cfdae-2f06-42c9-b15a-fe7f2b2b74d2",
   "metadata": {},
   "outputs": [
    {
     "data": {
      "text/html": [
       "<div>\n",
       "<style scoped>\n",
       "    .dataframe tbody tr th:only-of-type {\n",
       "        vertical-align: middle;\n",
       "    }\n",
       "\n",
       "    .dataframe tbody tr th {\n",
       "        vertical-align: top;\n",
       "    }\n",
       "\n",
       "    .dataframe thead th {\n",
       "        text-align: right;\n",
       "    }\n",
       "</style>\n",
       "<table border=\"1\" class=\"dataframe\">\n",
       "  <thead>\n",
       "    <tr style=\"text-align: right;\">\n",
       "      <th></th>\n",
       "      <th>groundtruth</th>\n",
       "      <th>prediction</th>\n",
       "      <th>sex</th>\n",
       "    </tr>\n",
       "  </thead>\n",
       "  <tbody>\n",
       "    <tr>\n",
       "      <th>0</th>\n",
       "      <td>surname: chardon firstname: marie occupation: ...</td>\n",
       "      <td>nom: chardon prenom: marie date_naissance: 30 ...</td>\n",
       "      <td>femme</td>\n",
       "    </tr>\n",
       "    <tr>\n",
       "      <th>1</th>\n",
       "      <td>surname: lhopital firstname: louis-jean occupa...</td>\n",
       "      <td>nom: lhopital prenom: louis jean date_naissanc...</td>\n",
       "      <td>homme</td>\n",
       "    </tr>\n",
       "    <tr>\n",
       "      <th>2</th>\n",
       "      <td>surname: papin firstname: marie occupation: id...</td>\n",
       "      <td>nom: pyrin prenom: marie date_naissance: 55 re...</td>\n",
       "      <td>femme</td>\n",
       "    </tr>\n",
       "  </tbody>\n",
       "</table>\n",
       "</div>"
      ],
      "text/plain": [
       "                                         groundtruth  \\\n",
       "0  surname: chardon firstname: marie occupation: ...   \n",
       "1  surname: lhopital firstname: louis-jean occupa...   \n",
       "2  surname: papin firstname: marie occupation: id...   \n",
       "\n",
       "                                          prediction    sex  \n",
       "0  nom: chardon prenom: marie date_naissance: 30 ...  femme  \n",
       "1  nom: lhopital prenom: louis jean date_naissanc...  homme  \n",
       "2  nom: pyrin prenom: marie date_naissance: 55 re...  femme  "
      ]
     },
     "execution_count": 76,
     "metadata": {},
     "output_type": "execute_result"
    }
   ],
   "source": [
    "Trs_df.head(3)"
   ]
  },
  {
   "cell_type": "code",
   "execution_count": 1346,
   "id": "68d032a4-a865-409c-b777-3f18729e6042",
   "metadata": {},
   "outputs": [
    {
     "data": {
      "text/plain": [
       "array(['surname: lhopital firstname: louis-jean occupation: sp link: chef age: 67 ',\n",
       "       'surname: papin firstname: marie occupation: idem link: idem employer: idem age: 15 ',\n",
       "       'surname: lavocat firstname: marie link: femme birth_date: 1875 lob: rigny ',\n",
       "       'surname: benne firstname: marguerite age: 78 '], dtype=object)"
      ]
     },
     "execution_count": 1346,
     "metadata": {},
     "output_type": "execute_result"
    }
   ],
   "source": [
    "Trs_df.groundtruth.values[1:5]"
   ]
  },
  {
   "cell_type": "code",
   "execution_count": 1347,
   "id": "b022c51b-53b2-4ff6-9008-4040eace7512",
   "metadata": {},
   "outputs": [
    {
     "data": {
      "text/plain": [
       "array(['nom: lhopital prenom: louis jean date_naissance: 67 lieux_naissance: sn employeur: ahef ',\n",
       "       'nom: pyrin prenom: marie date_naissance: 55 relation: d ',\n",
       "       'nom: lavocat prenom: marie date_naissance: 1875 lieux_naissance: rigny profession:  ',\n",
       "       'nom: benne prenom: marguerite date_naissance: 78 lieux_naissance: id relation:  '],\n",
       "      dtype=object)"
      ]
     },
     "execution_count": 1347,
     "metadata": {},
     "output_type": "execute_result"
    }
   ],
   "source": [
    "Trs_df.prediction.values[1:5]"
   ]
  },
  {
   "cell_type": "code",
   "execution_count": 77,
   "id": "9b9f3b84-33a0-4f74-b6bf-94d76efdc5db",
   "metadata": {},
   "outputs": [
    {
     "data": {
      "text/html": [
       "<div>\n",
       "<style scoped>\n",
       "    .dataframe tbody tr th:only-of-type {\n",
       "        vertical-align: middle;\n",
       "    }\n",
       "\n",
       "    .dataframe tbody tr th {\n",
       "        vertical-align: top;\n",
       "    }\n",
       "\n",
       "    .dataframe thead th {\n",
       "        text-align: right;\n",
       "    }\n",
       "</style>\n",
       "<table border=\"1\" class=\"dataframe\">\n",
       "  <thead>\n",
       "    <tr style=\"text-align: right;\">\n",
       "      <th></th>\n",
       "      <th>prediction</th>\n",
       "      <th>sex</th>\n",
       "    </tr>\n",
       "  </thead>\n",
       "  <tbody>\n",
       "    <tr>\n",
       "      <th>0</th>\n",
       "      <td>nom: chardon prenom: marie date_naissance: 30 ...</td>\n",
       "      <td>femme</td>\n",
       "    </tr>\n",
       "    <tr>\n",
       "      <th>1</th>\n",
       "      <td>nom: lhopital prenom: louis jean date_naissanc...</td>\n",
       "      <td>homme</td>\n",
       "    </tr>\n",
       "  </tbody>\n",
       "</table>\n",
       "</div>"
      ],
      "text/plain": [
       "                                          prediction    sex\n",
       "0  nom: chardon prenom: marie date_naissance: 30 ...  femme\n",
       "1  nom: lhopital prenom: louis jean date_naissanc...  homme"
      ]
     },
     "execution_count": 77,
     "metadata": {},
     "output_type": "execute_result"
    }
   ],
   "source": [
    "# Ne gardez que les colonnes intéressantes pour l'étude\n",
    "df_w=Trs_df.copy()\n",
    "cols_to_drop=[ 'groundtruth']\n",
    "df_w=df_w.drop(cols_to_drop,axis=1)\n",
    "df_w.head(2)"
   ]
  },
  {
   "cell_type": "code",
   "execution_count": 78,
   "id": "9a77e103-de85-4ba7-8a32-3a85840aa243",
   "metadata": {},
   "outputs": [
    {
     "name": "stdout",
     "output_type": "stream",
     "text": [
      "nom: chardon ,prenom: marie ,date_naissance: 30 ,lieux_naissance:  \n"
     ]
    }
   ],
   "source": [
    "import re\n",
    "\n",
    "def ajouter_virgule_avant_mots_specifiques(phrase):\n",
    "    # Liste des mots spécifiques à trouver\n",
    "    mots_specifiques = ['prenom', 'date_naissance', 'lieux_naissance', 'relation', 'employeur',\"profession\"]\n",
    "    # Expression régulière pour trouver les mots spécifiques suivis de deux-points\n",
    "    regex = r'(' + '|'.join(mots_specifiques) + r')\\s*:'\n",
    "    # Remplacez chaque occurrence de la regex par une virgule suivie du mot spécifique\n",
    "    phrase_propre = re.sub(regex, r',\\1:', phrase)\n",
    "    return phrase_propre\n",
    "\n",
    "# Testez la fonction avec votre exemple\n",
    "phrase_propre=df_w[\"prediction\"].values[0]\n",
    "\n",
    "phrase_propre = ajouter_virgule_avant_mots_specifiques(phrase_propre)\n",
    "print(phrase_propre)"
   ]
  },
  {
   "cell_type": "code",
   "execution_count": 79,
   "id": "64f79675-3da4-4b78-a314-18735e73753d",
   "metadata": {},
   "outputs": [],
   "source": [
    "# Appliquer la fonction ci-haut à la colonne \n",
    "df_w[\"prediction\"]=df_w.prediction.apply(lambda x : ajouter_virgule_avant_mots_specifiques(x))"
   ]
  },
  {
   "cell_type": "code",
   "execution_count": 81,
   "id": "1d7ef5e6-e31a-4176-bcd2-1daa5d89c1fe",
   "metadata": {},
   "outputs": [
    {
     "data": {
      "text/plain": [
       "'nom: chardon ,prenom: marie ,date_naissance: 30 ,lieux_naissance:  '"
      ]
     },
     "execution_count": 81,
     "metadata": {},
     "output_type": "execute_result"
    }
   ],
   "source": [
    "texte=df_w[\"prediction\"].values[0]\n",
    "texte"
   ]
  },
  {
   "cell_type": "code",
   "execution_count": 82,
   "id": "9f3b6a04-1a56-48cd-ad80-cfb2194a5d3e",
   "metadata": {},
   "outputs": [
    {
     "name": "stdout",
     "output_type": "stream",
     "text": [
      "nom:chardon , prenom:marie , date_naissance:30 , lieux_naissance:\n"
     ]
    }
   ],
   "source": [
    "# supprimer les espace avant et aprés les :\n",
    "def nettoyer_phrase(phrase):\n",
    "    # Séparez la phrase en couples \"mot1:mot2\" en utilisant la virgule comme délimiteur\n",
    "    couples = phrase.split(',')\n",
    "    # Parcourez chaque couple\n",
    "    couples_nettoyes = []\n",
    "    for couple in couples:\n",
    "        # Supprimez les espaces avant et après les deux points\n",
    "        couple_nettoye = couple.replace(' :', ':').replace(': ', ':')\n",
    "        couples_nettoyes.append(couple_nettoye)\n",
    "    # Rejoignez les couples pour former une nouvelle phrase\n",
    "    phrase_nettoyee = ', '.join(couples_nettoyes)\n",
    "    return phrase_nettoyee\n",
    "\n",
    "# Testez la fonction avec votre exemple\n",
    "phrase = 'nom: chardon ,prenom: marie ,date_naissance: 30 ,lieux_naissance: '\n",
    "phrase_nettoyee = nettoyer_phrase(phrase)\n",
    "print(phrase_nettoyee)\n"
   ]
  },
  {
   "cell_type": "code",
   "execution_count": 84,
   "id": "13791a36-2365-4db7-9af1-aea09735fc22",
   "metadata": {},
   "outputs": [
    {
     "data": {
      "text/plain": [
       "'nom:chardon , prenom:marie , date_naissance:30 , lieux_naissance: '"
      ]
     },
     "execution_count": 84,
     "metadata": {},
     "output_type": "execute_result"
    }
   ],
   "source": [
    "df_w[\"prediction\"]=df_w.prediction.apply(lambda x : nettoyer_phrase(x))\n",
    "texte=df_w[\"prediction\"].values[0]\n",
    "texte"
   ]
  },
  {
   "cell_type": "code",
   "execution_count": 85,
   "id": "09849da5-d69e-48e5-ad19-dde4423880cc",
   "metadata": {},
   "outputs": [
    {
     "data": {
      "text/plain": [
       "'nom:chardon , ,prenom:marie , ,date_naissance:30 , ,lieux_naissance: '"
      ]
     },
     "execution_count": 85,
     "metadata": {},
     "output_type": "execute_result"
    }
   ],
   "source": [
    "df_w[\"prediction\"]=df_w.prediction.apply(lambda x : ajouter_virgule_avant_mots_specifiques(x))\n",
    "texte=df_w[\"prediction\"].values[0]\n",
    "texte"
   ]
  },
  {
   "cell_type": "code",
   "execution_count": 41,
   "id": "9153a98a-16df-4533-9291-399e8347950b",
   "metadata": {},
   "outputs": [
    {
     "name": "stdout",
     "output_type": "stream",
     "text": [
      "nom:Dupont,prenom: marie ,date_naissance: 30 ,lieux_naissance: \n"
     ]
    }
   ],
   "source": [
    "# Définir la fonction pour récupérer et remplacer le nom\n",
    "def recuperer_et_remplacer_nom(phrase, nouveau_nom):\n",
    "    # Séparer la phrase en couples \"mot1:mot2\" en utilisant la virgule comme délimiteur\n",
    "    couples = phrase.split(',')\n",
    "    # Parcourir chaque couple\n",
    "    for i, couple in enumerate(couples):\n",
    "        # Supprimer les espaces avant et après les deux points\n",
    "        couple_nettoye = couple.replace(' :', ':').replace(': ', ':')\n",
    "        # Séparer le couple en mot1 et mot2 en utilisant les deux points comme délimiteur\n",
    "        mots = couple_nettoye.split(':')\n",
    "        # Si le mot1 est \"nom\", remplacer le mot2 par le nouveau nom\n",
    "        if mots[0].strip() == 'nom':\n",
    "            couples[i] = 'nom:' + nouveau_nom\n",
    "    # Rejoindre les couples pour former une nouvelle phrase\n",
    "    phrase_modifiee = ','.join(couples)\n",
    "    return phrase_modifiee\n",
    "\n",
    "# Phrase donnée\n",
    "phrase = 'nom: chardon ,prenom: marie ,date_naissance: 30 ,lieux_naissance: '\n",
    "\n",
    "# Nouveau nom à utiliser\n",
    "nouveau_nom = 'Dupont'\n",
    "\n",
    "# Appeler la fonction pour récupérer et remplacer le nom\n",
    "phrase_modifiee = recuperer_et_remplacer_nom(phrase, nouveau_nom)\n",
    "\n",
    "# Afficher la phrase modifiée\n",
    "print(phrase_modifiee)\n"
   ]
  },
  {
   "cell_type": "code",
   "execution_count": 42,
   "id": "a0f410b2-6f82-4b3a-b441-aef8696e19a7",
   "metadata": {},
   "outputs": [
    {
     "name": "stdout",
     "output_type": "stream",
     "text": [
      "chardon\n"
     ]
    }
   ],
   "source": [
    "# Définir la fonction pour récupérer le nom\n",
    "def recuperer_nom(phrase,feature='nom'):\n",
    "    # Séparer la phrase en couples \"mot1:mot2\" en utilisant la virgule comme délimiteur\n",
    "    couples = phrase.split(',')\n",
    "    # Parcourir chaque couple\n",
    "    for couple in couples:\n",
    "        # Supprimer les espaces avant et après les deux points\n",
    "        couple_nettoye = couple.replace(' :', ':').replace(': ', ':')\n",
    "        # Séparer le couple en mot1 et mot2 en utilisant les deux points comme délimiteur\n",
    "        mots = couple_nettoye.split(':')\n",
    "        # Si le mot1 est \"nom\", retourner le mot2\n",
    "        if mots[0].strip() == feature:\n",
    "            return mots[1].strip()\n",
    "    # Si aucun nom n'est trouvé, retourner une chaîne vide\n",
    "    return ''\n",
    "\n",
    "# Phrase donnée\n",
    "phrase = 'nom: chardon ,prenom: marie ,date_naissance: 30 ,lieux_naissance: '\n",
    "\n",
    "# Appeler la fonction pour récupérer le nom\n",
    "nom = recuperer_nom(phrase)\n",
    "\n",
    "# Afficher le nom extrait\n",
    "print(nom)\n"
   ]
  },
  {
   "cell_type": "code",
   "execution_count": 48,
   "id": "4821b343-4d85-451b-ba1f-cf0c6cf0e3ee",
   "metadata": {},
   "outputs": [
    {
     "data": {
      "text/plain": [
       "array(['jean', 'pierre', 'jeanne', 'francois'], dtype=object)"
      ]
     },
     "execution_count": 48,
     "metadata": {},
     "output_type": "execute_result"
    }
   ],
   "source": [
    "Names[1:5]"
   ]
  },
  {
   "cell_type": "code",
   "execution_count": 50,
   "id": "fa5dc3bf-f410-4b9c-bb76-b5d14c9e1cf6",
   "metadata": {},
   "outputs": [
    {
     "name": "stdout",
     "output_type": "stream",
     "text": [
      "Noms corrigés dans liste_1:\n",
      "marc\n"
     ]
    }
   ],
   "source": [
    "import difflib\n",
    "\n",
    "# Liste de noms avec des erreurs de saisie\n",
    "liste_1=[\"mar\"]\n",
    "# Liste de noms corrects\n",
    "liste_2 = ['John Doe', 'Jane Smith', 'Bob Dylan', 'Alice Johnson']\n",
    "\n",
    "# Fonction pour corriger les noms dans liste_1 en fonction de liste_2\n",
    "def corriger_noms(liste_1, liste_2=Names):\n",
    "    corrections = {}\n",
    "    for nom_1 in liste_1:\n",
    "        # Calculer la similarité avec chaque nom de la deuxième liste\n",
    "        ratios = [difflib.SequenceMatcher(None, nom_1, nom_2).ratio() for nom_2 in liste_2]\n",
    "        # Trouver le nom de la deuxième liste avec la plus grande similarité\n",
    "        index_max_ratio = ratios.index(max(ratios))\n",
    "        nom_correct = liste_2[index_max_ratio]\n",
    "        # Ajouter la correction à un dictionnaire\n",
    "        corrections[nom_1] = nom_correct\n",
    "    \n",
    "    # Remplacer les noms dans liste_1 par les noms corrigés\n",
    "    liste_1_corrigee = [corrections.get(nom, nom) for nom in liste_1]\n",
    "    \n",
    "    return liste_1_corrigee\n",
    "\n",
    "# Appliquer la fonction pour corriger les noms\n",
    "liste_1_corrigee = corriger_noms(liste_1)\n",
    "\n",
    "# Afficher les noms corrigés\n",
    "print(\"Noms corrigés dans liste_1:\")\n",
    "for nom in liste_1_corrigee:\n",
    "    print(nom)\n"
   ]
  },
  {
   "cell_type": "code",
   "execution_count": 86,
   "id": "15a1d568-6fc6-48c1-9e0a-14f5e10c4b0c",
   "metadata": {},
   "outputs": [
    {
     "data": {
      "text/plain": [
       "'nom:chardon, ,prenom:marie , ,date_naissance:30 , ,lieux_naissance: '"
      ]
     },
     "execution_count": 86,
     "metadata": {},
     "output_type": "execute_result"
    }
   ],
   "source": [
    "# Definir le bon nom si le nom est mal renséigne\n",
    "# on récupére le bon nom puis on remplace lle mauvais nom par le bon\n",
    "df_w[\"prediction\"]=df_w.prediction.apply(lambda x :  recuperer_et_remplacer_nom(x, recuperer_nom(x)))\n",
    "texte=df_w[\"prediction\"].values[0]\n",
    "texte"
   ]
  },
  {
   "cell_type": "code",
   "execution_count": 88,
   "id": "c17db660-87af-4666-b369-c2f25473f521",
   "metadata": {},
   "outputs": [
    {
     "data": {
      "text/plain": [
       "array(['nom:lhopital, ,prenom:louis jean , ,date_naissance:67 , ,lieux_naissance:sn , ,employeur:ahef ',\n",
       "       'nom:pyrin, ,prenom:marie , ,date_naissance:55 , ,relation:d ',\n",
       "       'nom:lavocat, ,prenom:marie , ,date_naissance:1875 , ,lieux_naissance:rigny , ,profession: ',\n",
       "       'nom:benne, ,prenom:marguerite , ,date_naissance:78 , ,lieux_naissance:id , ,relation: ',\n",
       "       'nom:roy, ,prenom:antoine , ,date_naissance:51 , ,lieux_naissance:p , ,profession:metro '],\n",
       "      dtype=object)"
      ]
     },
     "execution_count": 88,
     "metadata": {},
     "output_type": "execute_result"
    }
   ],
   "source": [
    "df_w.prediction.values[1:6]"
   ]
  },
  {
   "cell_type": "code",
   "execution_count": 89,
   "id": "bcdfaf0f-8b20-44aa-9fa0-be8e58e39868",
   "metadata": {},
   "outputs": [],
   "source": [
    "def get_features(phrases):\n",
    "    vect=phrases.split(',')\n",
    "    features=[texte.split(\":\")[0] for texte in vect]\n",
    "    return features"
   ]
  },
  {
   "cell_type": "code",
   "execution_count": 92,
   "id": "72e0e879-8b75-472a-8d88-52f55798cbda",
   "metadata": {},
   "outputs": [],
   "source": [
    "def get_overall_feats(df):\n",
    "    feats=[]\n",
    "    for line_ in df.prediction:\n",
    "        feats=feats +get_features(line_)\n",
    "    return set(feats)"
   ]
  },
  {
   "cell_type": "code",
   "execution_count": 104,
   "id": "b3ee6367-51dd-4c7d-b0d6-c5cfc6a60d07",
   "metadata": {},
   "outputs": [
    {
     "data": {
      "text/plain": [
       "{'',\n",
       " ' ',\n",
       " 'date_naissance',\n",
       " 'employeur',\n",
       " 'lieux_naissance',\n",
       " 'nom',\n",
       " 'prenom',\n",
       " 'profession',\n",
       " 'relation'}"
      ]
     },
     "execution_count": 104,
     "metadata": {},
     "output_type": "execute_result"
    }
   ],
   "source": [
    "features=get_overall_feats(df_w)\n",
    "features\n"
   ]
  },
  {
   "cell_type": "code",
   "execution_count": 108,
   "id": "61048efa-a5f6-4fef-9e84-7b16096f62c9",
   "metadata": {},
   "outputs": [
    {
     "data": {
      "text/plain": [
       "['date_naissance',\n",
       " '',\n",
       " 'relation',\n",
       " 'employeur',\n",
       " 'lieux_naissance',\n",
       " 'prenom',\n",
       " ' ',\n",
       " 'profession',\n",
       " 'nom']"
      ]
     },
     "execution_count": 108,
     "metadata": {},
     "output_type": "execute_result"
    }
   ],
   "source": [
    "features=list(features)\n",
    "features\n"
   ]
  },
  {
   "cell_type": "code",
   "execution_count": 114,
   "id": "87a1679d-1e29-473c-98b1-9178bcad5ecf",
   "metadata": {},
   "outputs": [],
   "source": [
    "index_=[0,2,3,4,5,7,8]"
   ]
  },
  {
   "cell_type": "code",
   "execution_count": 115,
   "id": "66f80000-9ada-494e-94d3-8ce48533ff93",
   "metadata": {},
   "outputs": [
    {
     "data": {
      "text/plain": [
       "['date_naissance',\n",
       " 'relation',\n",
       " 'employeur',\n",
       " 'lieux_naissance',\n",
       " 'prenom',\n",
       " 'profession',\n",
       " 'nom']"
      ]
     },
     "execution_count": 115,
     "metadata": {},
     "output_type": "execute_result"
    }
   ],
   "source": [
    "feats=[features[i] for i in index_]\n",
    "feats"
   ]
  },
  {
   "cell_type": "code",
   "execution_count": 116,
   "id": "04f02c0f-d4e3-4854-b59c-64776290a463",
   "metadata": {},
   "outputs": [
    {
     "data": {
      "text/plain": [
       "'nom:chardon, ,prenom:marie , ,date_naissance:30 , ,lieux_naissance: '"
      ]
     },
     "execution_count": 116,
     "metadata": {},
     "output_type": "execute_result"
    }
   ],
   "source": [
    "df_w.prediction.values[0]"
   ]
  },
  {
   "cell_type": "code",
   "execution_count": 117,
   "id": "349e8647-525b-43f4-b8aa-4a3d61e5b955",
   "metadata": {},
   "outputs": [],
   "source": [
    "import sklearn"
   ]
  },
  {
   "cell_type": "code",
   "execution_count": 118,
   "id": "3a188da6-7643-48db-bf32-2943b7b46a1a",
   "metadata": {},
   "outputs": [
    {
     "data": {
      "text/html": [
       "<div>\n",
       "<style scoped>\n",
       "    .dataframe tbody tr th:only-of-type {\n",
       "        vertical-align: middle;\n",
       "    }\n",
       "\n",
       "    .dataframe tbody tr th {\n",
       "        vertical-align: top;\n",
       "    }\n",
       "\n",
       "    .dataframe thead th {\n",
       "        text-align: right;\n",
       "    }\n",
       "</style>\n",
       "<table border=\"1\" class=\"dataframe\">\n",
       "  <thead>\n",
       "    <tr style=\"text-align: right;\">\n",
       "      <th></th>\n",
       "      <th>prediction</th>\n",
       "      <th>Sex_num</th>\n",
       "    </tr>\n",
       "  </thead>\n",
       "  <tbody>\n",
       "    <tr>\n",
       "      <th>0</th>\n",
       "      <td>nom:chardon, ,prenom:marie , ,date_naissance:3...</td>\n",
       "      <td>0</td>\n",
       "    </tr>\n",
       "    <tr>\n",
       "      <th>1</th>\n",
       "      <td>nom:lhopital, ,prenom:louis jean , ,date_naiss...</td>\n",
       "      <td>1</td>\n",
       "    </tr>\n",
       "    <tr>\n",
       "      <th>2</th>\n",
       "      <td>nom:pyrin, ,prenom:marie , ,date_naissance:55 ...</td>\n",
       "      <td>0</td>\n",
       "    </tr>\n",
       "  </tbody>\n",
       "</table>\n",
       "</div>"
      ],
      "text/plain": [
       "                                          prediction  Sex_num\n",
       "0  nom:chardon, ,prenom:marie , ,date_naissance:3...        0\n",
       "1  nom:lhopital, ,prenom:louis jean , ,date_naiss...        1\n",
       "2  nom:pyrin, ,prenom:marie , ,date_naissance:55 ...        0"
      ]
     },
     "execution_count": 118,
     "metadata": {},
     "output_type": "execute_result"
    }
   ],
   "source": [
    "# Rendre Binaire la variable sex : homme=1\n",
    "df_w[\"Sex_num\"]=1\n",
    "df_w.Sex_num[df_w.sex==\"femme\"]=0\n",
    "df_w=df_w.drop([\"sex\"],axis=1)\n",
    "df_w.head(3)"
   ]
  },
  {
   "cell_type": "code",
   "execution_count": 119,
   "id": "23f05ff0-c7de-4308-a6d2-0dec8df8141e",
   "metadata": {},
   "outputs": [
    {
     "data": {
      "text/html": [
       "<div>\n",
       "<style scoped>\n",
       "    .dataframe tbody tr th:only-of-type {\n",
       "        vertical-align: middle;\n",
       "    }\n",
       "\n",
       "    .dataframe tbody tr th {\n",
       "        vertical-align: top;\n",
       "    }\n",
       "\n",
       "    .dataframe thead th {\n",
       "        text-align: right;\n",
       "    }\n",
       "</style>\n",
       "<table border=\"1\" class=\"dataframe\">\n",
       "  <thead>\n",
       "    <tr style=\"text-align: right;\">\n",
       "      <th></th>\n",
       "      <th>Input_text</th>\n",
       "      <th>labels</th>\n",
       "    </tr>\n",
       "  </thead>\n",
       "  <tbody>\n",
       "    <tr>\n",
       "      <th>0</th>\n",
       "      <td>nom:chardon, ,prenom:marie , ,date_naissance:3...</td>\n",
       "      <td>0</td>\n",
       "    </tr>\n",
       "    <tr>\n",
       "      <th>1</th>\n",
       "      <td>nom:lhopital, ,prenom:louis jean , ,date_naiss...</td>\n",
       "      <td>1</td>\n",
       "    </tr>\n",
       "  </tbody>\n",
       "</table>\n",
       "</div>"
      ],
      "text/plain": [
       "                                          Input_text  labels\n",
       "0  nom:chardon, ,prenom:marie , ,date_naissance:3...       0\n",
       "1  nom:lhopital, ,prenom:louis jean , ,date_naiss...       1"
      ]
     },
     "execution_count": 119,
     "metadata": {},
     "output_type": "execute_result"
    }
   ],
   "source": [
    "df_w=df_w.rename(columns={\"prediction\":\"Input_text\",\"Sex_num\":\"labels\"})\n",
    "df_w.head(2)"
   ]
  },
  {
   "cell_type": "code",
   "execution_count": 164,
   "id": "b68741f2-4a1a-4161-a464-cfdda3a0b2a4",
   "metadata": {},
   "outputs": [],
   "source": [
    "df_w.loc[0:3].to_csv(\"Df_before_tokenized.csv\")"
   ]
  },
  {
   "cell_type": "code",
   "execution_count": null,
   "id": "9733cc29-6537-4ea4-a3a2-16ddc636f9ce",
   "metadata": {},
   "outputs": [],
   "source": []
  },
  {
   "cell_type": "code",
   "execution_count": 121,
   "id": "73a9b34b-e4c3-4984-88ec-3fd4e4bf5496",
   "metadata": {},
   "outputs": [
    {
     "name": "stdout",
     "output_type": "stream",
     "text": [
      "(241,)\n"
     ]
    }
   ],
   "source": [
    "# Transnformer les données en lists\n",
    "texte_liste=df_w.Input_text.values\n",
    "print(texte_liste.shape)\n",
    "texte_liste=list(texte_liste)\n"
   ]
  },
  {
   "cell_type": "code",
   "execution_count": 64,
   "id": "70c436b4-f35b-4ce4-8f21-909e1299f9a0",
   "metadata": {},
   "outputs": [
    {
     "data": {
      "text/plain": [
       "['nom:chardon, ,prenom:marie , ,date_naissance:30 , ,lieux_naissance: ',\n",
       " 'nom:lhopital, ,prenom:louis jean , ,date_naissance:67 , ,lieux_naissance:sn , ,employeur:ahef ']"
      ]
     },
     "execution_count": 64,
     "metadata": {},
     "output_type": "execute_result"
    }
   ],
   "source": [
    "texte_liste[0:2]"
   ]
  },
  {
   "cell_type": "markdown",
   "id": "c9f4be04-ec7a-4af2-9427-c544fb046e20",
   "metadata": {},
   "source": [
    "# 3  Chargement du tokenizer et du modèle BERT\n"
   ]
  },
  {
   "cell_type": "code",
   "execution_count": 122,
   "id": "e10867db-6df4-47ca-bdd1-7b175a82cfc5",
   "metadata": {},
   "outputs": [
    {
     "data": {
      "application/vnd.jupyter.widget-view+json": {
       "model_id": "412e0f9b934e4acaa1ad26c1b2bf7c7c",
       "version_major": 2,
       "version_minor": 0
      },
      "text/plain": [
       "tokenizer_config.json:   0%|          | 0.00/48.0 [00:00<?, ?B/s]"
      ]
     },
     "metadata": {},
     "output_type": "display_data"
    },
    {
     "data": {
      "application/vnd.jupyter.widget-view+json": {
       "model_id": "b2ba65b499ef43e0998c6136bb3f8ae4",
       "version_major": 2,
       "version_minor": 0
      },
      "text/plain": [
       "vocab.txt:   0%|          | 0.00/232k [00:00<?, ?B/s]"
      ]
     },
     "metadata": {},
     "output_type": "display_data"
    },
    {
     "data": {
      "application/vnd.jupyter.widget-view+json": {
       "model_id": "d5a269269b254111ae019f9a559ac7a8",
       "version_major": 2,
       "version_minor": 0
      },
      "text/plain": [
       "tokenizer.json:   0%|          | 0.00/466k [00:00<?, ?B/s]"
      ]
     },
     "metadata": {},
     "output_type": "display_data"
    },
    {
     "data": {
      "application/vnd.jupyter.widget-view+json": {
       "model_id": "9cea0ca49b164ecfab10be7cd97d0593",
       "version_major": 2,
       "version_minor": 0
      },
      "text/plain": [
       "config.json:   0%|          | 0.00/570 [00:00<?, ?B/s]"
      ]
     },
     "metadata": {},
     "output_type": "display_data"
    },
    {
     "data": {
      "application/vnd.jupyter.widget-view+json": {
       "model_id": "096d5d46dd5b42e8a916b1004aa937f0",
       "version_major": 2,
       "version_minor": 0
      },
      "text/plain": [
       "model.safetensors:   0%|          | 0.00/440M [00:00<?, ?B/s]"
      ]
     },
     "metadata": {},
     "output_type": "display_data"
    }
   ],
   "source": [
    "tokenizer = BertTokenizer.from_pretrained('bert-base-uncased')\n",
    "model = BertModel.from_pretrained('bert-base-uncased')"
   ]
  },
  {
   "cell_type": "code",
   "execution_count": 123,
   "id": "997db5d3-e886-4ce6-b363-f548fbb68cf8",
   "metadata": {},
   "outputs": [
    {
     "data": {
      "text/plain": [
       "12"
      ]
     },
     "execution_count": 123,
     "metadata": {},
     "output_type": "execute_result"
    }
   ],
   "source": [
    " \"\"\"\n",
    " contenant tous les paramètres de configuration du modèle,\n",
    " tels que la taille du vocabulaire, le nombre de couches, le nombre de têtes d'attention\n",
    " \"\"\"\n",
    "keys=[\"num_attention_heads\",\"vocab_size\",\"num_hidden_layers\"]\n",
    "#bErt_attributs=list()\n",
    "model.config.num_attention_heads #.architectures\n"
   ]
  },
  {
   "cell_type": "markdown",
   "id": "648b4cab-a2fd-4e78-b867-d56c588a7d68",
   "metadata": {},
   "source": [
    "# 4 EMBEDDING "
   ]
  },
  {
   "cell_type": "code",
   "execution_count": 124,
   "id": "b99d4dfd-fc81-418e-8f19-63767195b037",
   "metadata": {},
   "outputs": [],
   "source": [
    "# Faire un embedding sur toute la base données  une seule fois "
   ]
  },
  {
   "cell_type": "code",
   "execution_count": 129,
   "id": "c28223d0-c540-4fcf-8401-b05e0148315b",
   "metadata": {},
   "outputs": [
    {
     "data": {
      "text/html": [
       "<div>\n",
       "<style scoped>\n",
       "    .dataframe tbody tr th:only-of-type {\n",
       "        vertical-align: middle;\n",
       "    }\n",
       "\n",
       "    .dataframe tbody tr th {\n",
       "        vertical-align: top;\n",
       "    }\n",
       "\n",
       "    .dataframe thead th {\n",
       "        text-align: right;\n",
       "    }\n",
       "</style>\n",
       "<table border=\"1\" class=\"dataframe\">\n",
       "  <thead>\n",
       "    <tr style=\"text-align: right;\">\n",
       "      <th></th>\n",
       "      <th>Phrase</th>\n",
       "      <th>prenom</th>\n",
       "      <th>input_ids</th>\n",
       "    </tr>\n",
       "  </thead>\n",
       "  <tbody>\n",
       "    <tr>\n",
       "      <th>0</th>\n",
       "      <td>nom:chardon, ,prenom:marie , ,date_naissance:3...</td>\n",
       "      <td>marie</td>\n",
       "      <td>[tensor(101), tensor(2053), tensor(2213), tens...</td>\n",
       "    </tr>\n",
       "    <tr>\n",
       "      <th>1</th>\n",
       "      <td>nom:lhopital, ,prenom:louis jean , ,date_naiss...</td>\n",
       "      <td>louis jean</td>\n",
       "      <td>[tensor(101), tensor(2053), tensor(2213), tens...</td>\n",
       "    </tr>\n",
       "    <tr>\n",
       "      <th>2</th>\n",
       "      <td>nom:pyrin, ,prenom:marie , ,date_naissance:55 ...</td>\n",
       "      <td>marie</td>\n",
       "      <td>[tensor(101), tensor(2053), tensor(2213), tens...</td>\n",
       "    </tr>\n",
       "  </tbody>\n",
       "</table>\n",
       "</div>"
      ],
      "text/plain": [
       "                                              Phrase      prenom  \\\n",
       "0  nom:chardon, ,prenom:marie , ,date_naissance:3...       marie   \n",
       "1  nom:lhopital, ,prenom:louis jean , ,date_naiss...  louis jean   \n",
       "2  nom:pyrin, ,prenom:marie , ,date_naissance:55 ...       marie   \n",
       "\n",
       "                                           input_ids  \n",
       "0  [tensor(101), tensor(2053), tensor(2213), tens...  \n",
       "1  [tensor(101), tensor(2053), tensor(2213), tens...  \n",
       "2  [tensor(101), tensor(2053), tensor(2213), tens...  "
      ]
     },
     "execution_count": 129,
     "metadata": {},
     "output_type": "execute_result"
    }
   ],
   "source": [
    "from transformers import BertTokenizer\n",
    "import torch\n",
    "import pandas as pd\n",
    "\n",
    "# Liste de phrases à tokenizer\n",
    "\n",
    "\n",
    "# Instanciez le tokenizer de BERT\n",
    "tokenizer = BertTokenizer.from_pretrained(\"bert-base-uncased\")\n",
    "\n",
    "# Initialisation des listes pour stocker les input_ids et les prénoms\n",
    "input_ids_list = []\n",
    "prenoms_list = []\n",
    "\n",
    "# Trouver la longueur maximale des input_ids\n",
    "max_length = 0\n",
    "tes_Str_input=list(df_w.Input_text.values)\n",
    "# Boucle sur chaque phrase de la liste\n",
    "for phrase in tes_Str_input:\n",
    "    # Tokenisez la phrase avec le tokenizer de BERT\n",
    "    encoding = tokenizer(phrase, return_tensors='pt')\n",
    "    \n",
    "    # Récupérez le prénom dans la phrase\n",
    "    prenom = phrase.split(\", ,\")[1].split(\":\")[1].strip()  # Extraction du prénom\n",
    "    prenoms_list.append(prenom)\n",
    "\n",
    "    # Récupérez les input_ids\n",
    "    input_ids = encoding['input_ids'].squeeze()  # squeeze() pour obtenir un tenseur à une dimension\n",
    "    input_ids_list.append(input_ids)\n",
    "\n",
    "    # Mettre à jour la longueur maximale des input_ids\n",
    "    max_length = max(max_length, len(input_ids))\n",
    "\n",
    "# Appliquer le padding sur les input_ids pour qu'ils aient tous la même longueur\n",
    "padded_input_ids_list = [torch.cat([input_ids, torch.zeros(max_length - len(input_ids), dtype=torch.long)]) for input_ids in input_ids_list]\n",
    "\n",
    "# Créez un DataFrame à partir des listes\n",
    "Final_input = pd.DataFrame({'Phrase': tes_Str_input, 'prenom': prenoms_list, 'input_ids': padded_input_ids_list})\n",
    "\n",
    "# Affichez le DataFrame\n",
    "Final_input.head(3)"
   ]
  },
  {
   "cell_type": "code",
   "execution_count": 166,
   "id": "d9a00e7e-80b4-40d1-8760-4ae8394aec3f",
   "metadata": {},
   "outputs": [],
   "source": [
    "Final_input.iloc[0:3].to_csv(\"df_after_tokenizeation.csv\")"
   ]
  },
  {
   "cell_type": "code",
   "execution_count": 130,
   "id": "57c03d73-0bb4-4e65-9f70-b92280dd84d9",
   "metadata": {},
   "outputs": [
    {
     "data": {
      "text/plain": [
       "torch.Tensor"
      ]
     },
     "execution_count": 130,
     "metadata": {},
     "output_type": "execute_result"
    }
   ],
   "source": [
    "type(Final_input.input_ids[0])"
   ]
  },
  {
   "cell_type": "code",
   "execution_count": 131,
   "id": "836e730d-0508-4619-9b29-8973a2ad885d",
   "metadata": {},
   "outputs": [
    {
     "name": "stdout",
     "output_type": "stream",
     "text": [
      "marie louis_jean marie marie marguerite antoine lo\n"
     ]
    }
   ],
   "source": [
    "Prenoms=Final_input[\"prenom\"].apply(lambda x: x.replace(\" \",\"_\"))\n",
    "\n",
    "# Utilisation de la méthode join() pour former une seule chaîne\n",
    "liste_prenoms = ' '.join(Prenoms)\n",
    "\n",
    "# Affichage du résultat\n",
    "print(liste_prenoms[0:50])"
   ]
  },
  {
   "cell_type": "code",
   "execution_count": 133,
   "id": "bfd00927-1797-4842-93ad-f71be071b5ab",
   "metadata": {},
   "outputs": [
    {
     "data": {
      "image/png": "[encoded data removed]",
      "text/plain": [
       "<Figure size 1000x500 with 1 Axes>"
      ]
     },
     "metadata": {},
     "output_type": "display_data"
    },
    {
     "data": {
      "text/plain": [
       "<wordcloud.wordcloud.WordCloud at 0x7f1bae5100b0>"
      ]
     },
     "execution_count": 133,
     "metadata": {},
     "output_type": "execute_result"
    }
   ],
   "source": [
    "from wordcloud import WordCloud\n",
    "import matplotlib.pyplot as plt\n",
    "\n",
    "# Définir le texte à utiliser pour générer le nuage de mots\n",
    "texte = \"Python est un langage de programmation puissant et polyvalent. Il est largement utilisé dans le développement logiciel, l'analyse de données, l'apprentissage automatique et bien d'autres domaines.\"\n",
    "\n",
    "# Créer l'objet WordCloud avec les paramètres souhaités\n",
    "wordcloud = WordCloud(width=800, height=400, background_color='white').generate(liste_prenoms)\n",
    "\n",
    "# Afficher le nuage de mots\n",
    "plt.figure(figsize=(10, 5))\n",
    "plt.imshow(wordcloud, interpolation='bilinear')\n",
    "plt.axis('off')\n",
    "plt.show()\n",
    "wordcloud.to_file('wordcloud.png')\n",
    "\n"
   ]
  },
  {
   "cell_type": "code",
   "execution_count": 134,
   "id": "e21bace8-4d0b-4eef-b8e6-c10cc51b6303",
   "metadata": {},
   "outputs": [
    {
     "data": {
      "text/html": [
       "<div>\n",
       "<style scoped>\n",
       "    .dataframe tbody tr th:only-of-type {\n",
       "        vertical-align: middle;\n",
       "    }\n",
       "\n",
       "    .dataframe tbody tr th {\n",
       "        vertical-align: top;\n",
       "    }\n",
       "\n",
       "    .dataframe thead th {\n",
       "        text-align: right;\n",
       "    }\n",
       "</style>\n",
       "<table border=\"1\" class=\"dataframe\">\n",
       "  <thead>\n",
       "    <tr style=\"text-align: right;\">\n",
       "      <th></th>\n",
       "      <th>Phrase</th>\n",
       "      <th>prenom</th>\n",
       "      <th>input_ids</th>\n",
       "    </tr>\n",
       "  </thead>\n",
       "  <tbody>\n",
       "    <tr>\n",
       "      <th>0</th>\n",
       "      <td>nom:chardon, ,prenom:marie , ,date_naissance:3...</td>\n",
       "      <td>marie</td>\n",
       "      <td>[tensor(101), tensor(2053), tensor(2213), tens...</td>\n",
       "    </tr>\n",
       "  </tbody>\n",
       "</table>\n",
       "</div>"
      ],
      "text/plain": [
       "                                              Phrase prenom  \\\n",
       "0  nom:chardon, ,prenom:marie , ,date_naissance:3...  marie   \n",
       "\n",
       "                                           input_ids  \n",
       "0  [tensor(101), tensor(2053), tensor(2213), tens...  "
      ]
     },
     "execution_count": 134,
     "metadata": {},
     "output_type": "execute_result"
    }
   ],
   "source": [
    "Final_input.head(1)"
   ]
  },
  {
   "cell_type": "code",
   "execution_count": 136,
   "id": "817eb517-bf3b-4ca6-b01f-46f64e97b148",
   "metadata": {},
   "outputs": [
    {
     "data": {
      "image/png": "[encoded data removed]",
      "text/plain": [
       "<Figure size 1000x600 with 1 Axes>"
      ]
     },
     "metadata": {},
     "output_type": "display_data"
    }
   ],
   "source": [
    "from collections import Counter\n",
    "\n",
    "# Liste de chaînes de caractères\n",
    "liste_chaines = list(Prenoms)\n",
    "\n",
    "# Compter les occurrences de chaque chaîne\n",
    "occurrences = Counter(liste_chaines)\n",
    "\n",
    "# Obtenir les 10 chaînes les plus présentes\n",
    "top_10_chaines = occurrences.most_common(20)\n",
    "\n",
    "# Extraire les chaînes et leurs occurrences\n",
    "noms = [chaine for chaine, occurrence in top_10_chaines]\n",
    "occurrences_total = [occurrence for chaine, occurrence in top_10_chaines]\n",
    "\n",
    "X=list(Final_input.prenom.values)\n",
    "Y=list(df_w['labels'].values)\n",
    "data = {'Prenom': X,\n",
    "        'Sexe': Y}\n",
    "df = pd.DataFrame(data)\n",
    "\n",
    "# Calculer la répartition des hommes et des femmes pour chaque nom\n",
    "repartition_hommes = []\n",
    "repartition_femmes = []\n",
    "for nom in noms:\n",
    "    # Filtrer le DataFrame par nom\n",
    "    df_nom = df[df['Prenom'] == nom]\n",
    "    # Compter les occurrences de chaque sexe pour ce nom\n",
    "    occurences_hommes = len(df_nom[df_nom['Sexe'] == 1])\n",
    "    occurences_femmes = len(df_nom[df_nom['Sexe'] == 0])\n",
    "    # Ajouter les proportions à la liste\n",
    "    repartition_hommes.append(occurences_hommes)\n",
    "    repartition_femmes.append(occurences_femmes)\n",
    "\n",
    "# Tracer le graphique\n",
    "plt.figure(figsize=(10, 6))\n",
    "\n",
    "# Tracer les barres pour les hommes\n",
    "plt.bar(noms, repartition_hommes, color='skyblue', label='Hommes')\n",
    "\n",
    "# Tracer les barres pour les femmes\n",
    "plt.bar(noms, repartition_femmes, bottom=repartition_hommes, color='pink', label='Femmes')\n",
    "\n",
    "plt.xlabel('Prenoms')\n",
    "plt.ylabel('Nombre de personnes le portant')\n",
    "plt.title('Répartition des hommes et des femmes pour les 20 noms les plus fréquents')\n",
    "plt.xticks(rotation=45)  # Rotation des étiquettes sur l'axe des x pour une meilleure lisibilité\n",
    "plt.legend()  # Afficher la légende\n",
    "plt.subplots_adjust(bottom=0.3)\n",
    "plt.savefig('plotPrenom.png')\n",
    "\n",
    "plt.show()"
   ]
  },
  {
   "cell_type": "code",
   "execution_count": 1385,
   "id": "d15cec50-6655-4da0-b69b-f766a0c9a4f3",
   "metadata": {},
   "outputs": [
    {
     "data": {
      "image/png": "[encoded data removed]",
      "text/plain": [
       "<Figure size 1000x600 with 1 Axes>"
      ]
     },
     "metadata": {},
     "output_type": "display_data"
    }
   ],
   "source": [
    "from collections import Counter\n",
    "import matplotlib.pyplot as plt\n",
    "\n",
    "# Liste de chaînes de caractères\n",
    "liste_chaines = list(Prenoms)\n",
    "\n",
    "# Compter les occurrences de chaque chaîne\n",
    "occurrences = Counter(liste_chaines)\n",
    "\n",
    "# Obtenir les 10 chaînes les plus présentes\n",
    "top_10_chaines = occurrences.most_common(10)\n",
    "\n",
    "# Extraire les chaînes et leurs occurrences\n",
    "chaines = [chaine for chaine, occurrence in top_10_chaines]\n",
    "occurrences = [occurrence for chaine, occurrence in top_10_chaines]\n",
    "\n",
    "# Tracer le graphique\n",
    "plt.figure(figsize=(10, 6))\n",
    "plt.bar(chaines, occurrences, color='skyblue')\n",
    "plt.xlabel('Chaînes')\n",
    "plt.ylabel('Occurrences')\n",
    "plt.title('Les 10 noms les plus présentes')\n",
    "plt.xticks(rotation=45)  # Rotation des étiquettes sur l'axe des x pour une meilleure lisibilité\n",
    "\n",
    "# Enregistrer le plot sous forme d'image PNG\n",
    "plt.savefig('plot1.png')\n",
    "\n",
    "# Afficher le graphique\n",
    "plt.show()\n",
    "\n",
    "\n",
    "\n"
   ]
  },
  {
   "cell_type": "code",
   "execution_count": 137,
   "id": "d9eda766-16d1-415a-9f48-bafb77d001f0",
   "metadata": {},
   "outputs": [
    {
     "data": {
      "text/plain": [
       "[78, 78, 78, 78, 78, 78, 78, 78, 78]"
      ]
     },
     "execution_count": 137,
     "metadata": {},
     "output_type": "execute_result"
    }
   ],
   "source": [
    "[Final_input.input_ids[i].size(0) for i in range(Final_input.shape[0])][1:10]"
   ]
  },
  {
   "cell_type": "code",
   "execution_count": 1387,
   "id": "72b63094-97a2-447e-a367-0be1e4e99437",
   "metadata": {},
   "outputs": [
    {
     "data": {
      "text/plain": [
       "Index(['Phrase', 'prenom', 'input_ids'], dtype='object')"
      ]
     },
     "execution_count": 1387,
     "metadata": {},
     "output_type": "execute_result"
    }
   ],
   "source": [
    "Final_input.columns"
   ]
  },
  {
   "cell_type": "code",
   "execution_count": 1388,
   "id": "6cd067cf-e413-49c0-9315-55a550128533",
   "metadata": {},
   "outputs": [
    {
     "data": {
      "text/plain": [
       "Index(['Phrase', 'prenom', 'input_ids'], dtype='object')"
      ]
     },
     "execution_count": 1388,
     "metadata": {},
     "output_type": "execute_result"
    }
   ],
   "source": [
    "Final_input.columns"
   ]
  },
  {
   "cell_type": "code",
   "execution_count": 138,
   "id": "15a5a5a6-06fb-4277-81b7-d5e9716925f4",
   "metadata": {},
   "outputs": [],
   "source": [
    "Final_input[\"labels\"]=df_w['labels'].values"
   ]
  },
  {
   "cell_type": "code",
   "execution_count": 139,
   "id": "a2cc9df2-14da-4890-a2c8-86f2cc55af8b",
   "metadata": {},
   "outputs": [
    {
     "data": {
      "text/html": [
       "<div>\n",
       "<style scoped>\n",
       "    .dataframe tbody tr th:only-of-type {\n",
       "        vertical-align: middle;\n",
       "    }\n",
       "\n",
       "    .dataframe tbody tr th {\n",
       "        vertical-align: top;\n",
       "    }\n",
       "\n",
       "    .dataframe thead th {\n",
       "        text-align: right;\n",
       "    }\n",
       "</style>\n",
       "<table border=\"1\" class=\"dataframe\">\n",
       "  <thead>\n",
       "    <tr style=\"text-align: right;\">\n",
       "      <th></th>\n",
       "      <th>prenom</th>\n",
       "      <th>input_ids</th>\n",
       "      <th>labels</th>\n",
       "    </tr>\n",
       "  </thead>\n",
       "  <tbody>\n",
       "    <tr>\n",
       "      <th>0</th>\n",
       "      <td>marie</td>\n",
       "      <td>[tensor(101), tensor(2053), tensor(2213), tens...</td>\n",
       "      <td>0</td>\n",
       "    </tr>\n",
       "    <tr>\n",
       "      <th>1</th>\n",
       "      <td>louis jean</td>\n",
       "      <td>[tensor(101), tensor(2053), tensor(2213), tens...</td>\n",
       "      <td>1</td>\n",
       "    </tr>\n",
       "    <tr>\n",
       "      <th>2</th>\n",
       "      <td>marie</td>\n",
       "      <td>[tensor(101), tensor(2053), tensor(2213), tens...</td>\n",
       "      <td>0</td>\n",
       "    </tr>\n",
       "  </tbody>\n",
       "</table>\n",
       "</div>"
      ],
      "text/plain": [
       "       prenom                                          input_ids  labels\n",
       "0       marie  [tensor(101), tensor(2053), tensor(2213), tens...       0\n",
       "1  louis jean  [tensor(101), tensor(2053), tensor(2213), tens...       1\n",
       "2       marie  [tensor(101), tensor(2053), tensor(2213), tens...       0"
      ]
     },
     "execution_count": 139,
     "metadata": {},
     "output_type": "execute_result"
    }
   ],
   "source": [
    "Final_input=Final_input.drop([\"Phrase\"],axis=1)\n",
    "Final_input.head(3)"
   ]
  },
  {
   "cell_type": "code",
   "execution_count": 1391,
   "id": "c40483c1-91d7-4cd1-9df1-5dd584b47a6c",
   "metadata": {},
   "outputs": [],
   "source": [
    "#Final_input[\"Probas\"]=Probas[:]\n",
    "#Final_input.head(2)"
   ]
  },
  {
   "cell_type": "code",
   "execution_count": 140,
   "id": "4b698e78-71ec-4c0a-86cb-f3cbd3d6314a",
   "metadata": {},
   "outputs": [],
   "source": [
    "Final_input=Final_input.set_index(\"prenom\")"
   ]
  },
  {
   "cell_type": "code",
   "execution_count": 141,
   "id": "11e9d855-e09a-463a-b799-6e1efd40ea9e",
   "metadata": {},
   "outputs": [
    {
     "data": {
      "text/html": [
       "<div>\n",
       "<style scoped>\n",
       "    .dataframe tbody tr th:only-of-type {\n",
       "        vertical-align: middle;\n",
       "    }\n",
       "\n",
       "    .dataframe tbody tr th {\n",
       "        vertical-align: top;\n",
       "    }\n",
       "\n",
       "    .dataframe thead th {\n",
       "        text-align: right;\n",
       "    }\n",
       "</style>\n",
       "<table border=\"1\" class=\"dataframe\">\n",
       "  <thead>\n",
       "    <tr style=\"text-align: right;\">\n",
       "      <th></th>\n",
       "      <th>input_ids</th>\n",
       "      <th>labels</th>\n",
       "    </tr>\n",
       "    <tr>\n",
       "      <th>prenom</th>\n",
       "      <th></th>\n",
       "      <th></th>\n",
       "    </tr>\n",
       "  </thead>\n",
       "  <tbody>\n",
       "    <tr>\n",
       "      <th>marie</th>\n",
       "      <td>[tensor(101), tensor(2053), tensor(2213), tens...</td>\n",
       "      <td>0</td>\n",
       "    </tr>\n",
       "    <tr>\n",
       "      <th>louis jean</th>\n",
       "      <td>[tensor(101), tensor(2053), tensor(2213), tens...</td>\n",
       "      <td>1</td>\n",
       "    </tr>\n",
       "    <tr>\n",
       "      <th>marie</th>\n",
       "      <td>[tensor(101), tensor(2053), tensor(2213), tens...</td>\n",
       "      <td>0</td>\n",
       "    </tr>\n",
       "  </tbody>\n",
       "</table>\n",
       "</div>"
      ],
      "text/plain": [
       "                                                    input_ids  labels\n",
       "prenom                                                               \n",
       "marie       [tensor(101), tensor(2053), tensor(2213), tens...       0\n",
       "louis jean  [tensor(101), tensor(2053), tensor(2213), tens...       1\n",
       "marie       [tensor(101), tensor(2053), tensor(2213), tens...       0"
      ]
     },
     "execution_count": 141,
     "metadata": {},
     "output_type": "execute_result"
    }
   ],
   "source": [
    "Final_input.head(3)"
   ]
  },
  {
   "cell_type": "code",
   "execution_count": 142,
   "id": "62e58fa5-d5ba-4139-9377-6110b7e1a67b",
   "metadata": {},
   "outputs": [
    {
     "name": "stdout",
     "output_type": "stream",
     "text": [
      " Train : (192,) (192,)\n",
      " Test : (49,) (49,)\n"
     ]
    },
    {
     "data": {
      "text/plain": [
       "tensor([  101,  2053,  2213,  1024, 25830,  1010,  1010,  3653,  3630,  2213,\n",
       "         1024, 16821,  1010,  1010,  3058,  1035,  6583, 21205,  5897,  1024,\n",
       "         7005,  1010,  1010, 22470,  2595,  1035,  6583, 21205,  5897,  1024,\n",
       "         2522, 18845, 15465,  1010,  1010,  7189,  1024, 10026,  1010,  1010,\n",
       "         9518,  1024, 12731,  2140,  7903, 27870,  1010,  1010, 12666, 11236,\n",
       "         1024,  9161,   999,  9713,  2487,   102,     0,     0,     0,     0,\n",
       "            0,     0,     0,     0,     0,     0,     0,     0,     0,     0,\n",
       "            0,     0,     0,     0,     0,     0,     0,     0])"
      ]
     },
     "execution_count": 142,
     "metadata": {},
     "output_type": "execute_result"
    }
   ],
   "source": [
    "from sklearn.model_selection import train_test_split\n",
    "Train_data,Test_data=train_test_split(Final_input,test_size=0.2)\n",
    "X_train,Y_train=Train_data.input_ids,Train_data.labels\n",
    "X_test,Y_test=Test_data.input_ids,Test_data.labels\n",
    "print( \" Train :\", X_train.shape,Y_train.shape)\n",
    "print( \" Test :\", X_test.shape,Y_test.shape)\n",
    "# Transormer les dafaframes en listes \n",
    "X_train[0]"
   ]
  },
  {
   "cell_type": "markdown",
   "id": "325ca801-36ec-4b7f-af08-0213db57cf07",
   "metadata": {},
   "source": [
    " #  5 Build Model "
   ]
  },
  {
   "cell_type": "code",
   "execution_count": 144,
   "id": "93bdeb40-8c89-4f05-b474-67943b02dbb3",
   "metadata": {},
   "outputs": [],
   "source": [
    "import torch\n",
    "import torch.nn as nn\n",
    "import torch.optim as optim\n",
    "from torch.utils.data import DataLoader, TensorDataset  \n",
    "import pandas as pd"
   ]
  },
  {
   "cell_type": "markdown",
   "id": "04a1fa65-cc9b-4c60-90c2-087cbc0adc69",
   "metadata": {},
   "source": [
    "# 5.1 : Model 1 : Dans ce modéle nous allons utiliser 4 couche de reseau dense"
   ]
  },
  {
   "cell_type": "code",
   "execution_count": 187,
   "id": "577a1821-c35f-4e41-9566-34dbf1b3586e",
   "metadata": {},
   "outputs": [
    {
     "name": "stdout",
     "output_type": "stream",
     "text": [
      "Accuracy decreased. Stopping training.\n",
      "Epoch [70/2000], Accuracy: 0.9029287439613527\n"
     ]
    }
   ],
   "source": [
    "# 1. Charger les données depuis le DataFrame\n",
    "# Exemple de données fictives\n",
    "\n",
    "# Définir la seed pour PyTorch\n",
    "torch.manual_seed(1996)\n",
    "# Convertir les données en tenseurs PyTorch\n",
    "tenseurs = torch.stack(Train_data['input_ids'].tolist())\n",
    "labels = torch.tensor(Train_data['labels'].tolist())\n",
    "input_len=78\n",
    "# Définir l'architecture du réseau de neurones\n",
    "class classe_model1(nn.Module):\n",
    "    def __init__(self):\n",
    "        super(classe_model1, self).__init__()\n",
    "        self.couche_lineaire_1 = nn.Linear(input_len, 39)  # Couche linéaire avec 10 entrées et 50 sorties\n",
    "        self.couche_lineaire_11 = nn.Linear(39, 20)  # Couche linéaire avec 10 entrées et 50 sorties\n",
    "        self.couche_lineaire_12 = nn.Linear(20, 10)  # Couche linéaire avec 10 entrées et 50 sorties\n",
    "\n",
    "        self.couche_lineaire_2 = nn.Linear(10, 2)   # Couche linéaire avec 50 entrées et 2 sorties (2 classes)\n",
    "\n",
    "    def forward(self, x):\n",
    "        x = torch.relu(self.couche_lineaire_1(x.float()))  # Convertir les tenseurs d'entrée en type torch.float\n",
    "        x = self.couche_lineaire_11(x)\n",
    "        x = self.couche_lineaire_12(x)\n",
    "\n",
    "        x = self.couche_lineaire_2(x)             # Pas de fonction d'activation pour la dernière couche\n",
    "        return x\n",
    "\n",
    "# Créer un DataLoader pour les données d'entraînement\n",
    "dataset = TensorDataset(tenseurs, labels)\n",
    "train_loader = DataLoader(dataset, batch_size=10, shuffle=True)\n",
    "\n",
    "# Initialiser le modèle\n",
    "model1 = classe_model1()\n",
    "\n",
    "# Définir la fonction de perte et l'optimiseur\n",
    "criterion = nn.CrossEntropyLoss()  # Fonction de perte pour les problèmes de classification\n",
    "optimizer = optim.Adam(model1.parameters(), lr=0.001)  # Optimiseur Adam avec un taux d'apprentissage de 0.001\n",
    "\n",
    "num_epochs=2000\n",
    "# Entraîner le modèle\n",
    "# Variables pour le calcul de l'exactitude\n",
    "total_correct = 0\n",
    "total_samples = 0\n",
    "\n",
    "# Initialiser l'exactitude précédente à zéro\n",
    "prev_accuracy = 0.0\n",
    "\n",
    "# Entraîner le modèle\n",
    "for epoch in range(num_epochs):\n",
    "    for batch_tenseurs, batch_labels in train_loader:\n",
    "        optimizer.zero_grad()\n",
    "        predictions = model1(batch_tenseurs)\n",
    "        loss = criterion(predictions, batch_labels)\n",
    "        loss.backward()\n",
    "        optimizer.step()\n",
    "\n",
    "        # Calculer les prédictions correctes\n",
    "        _, predicted = torch.max(predictions, 1)\n",
    "        total_correct += (predicted == batch_labels).sum().item()\n",
    "        total_samples += batch_labels.size(0)\n",
    "\n",
    "    # Calculer l'exactitude à la fin de chaque époque\n",
    "    accuracy = total_correct / total_samples\n",
    "    #print(f'Epoch [{epoch+1}/{num_epochs}], Accuracy: {accuracy}')\n",
    "\n",
    "    # Vérifier si l'exactitude diminue\n",
    "    if accuracy < prev_accuracy:\n",
    "        print(\"Accuracy decreased. Stopping training.\")\n",
    "        print(f'Epoch [{epoch+1}/{num_epochs}], Accuracy: {prev_accuracy}')\n",
    "\n",
    "        break\n",
    "    elif epoch+1==num_epochs:\n",
    "        print(f'Epoch [{epoch+1}/{num_epochs}], Accuracy: {accuracy}')\n",
    "    \n",
    "    # Mettre à jour l'exactitude précédente\n",
    "    prev_accuracy = accuracy\n",
    "    #performance1=pd.DataFrame({'Model_name':\"model1\",\"data\":\"Train\",\"Accuracy\":prev_accuracy})\n",
    "    performance1=pd.DataFrame([\"model1\",\"Train\",prev_accuracy])\n",
    "\n",
    "    performance1\n",
    "\n"
   ]
  },
  {
   "cell_type": "code",
   "execution_count": null,
   "id": "ec56010c-6cbc-463e-8124-0cdad7856196",
   "metadata": {},
   "outputs": [],
   "source": [
    "# Model2 : Nous allons utiliser 3 couche de reseaux denses"
   ]
  },
  {
   "cell_type": "code",
   "execution_count": 190,
   "id": "9752cc9b-4a65-4095-9f78-39b5ece6d3f1",
   "metadata": {},
   "outputs": [],
   "source": [
    "performance1=pd.DataFrame(performance1.values.transpose())"
   ]
  },
  {
   "cell_type": "code",
   "execution_count": 191,
   "id": "40bb3c4b-8919-456c-ae82-c526b9d1a0f7",
   "metadata": {},
   "outputs": [
    {
     "data": {
      "text/html": [
       "<div>\n",
       "<style scoped>\n",
       "    .dataframe tbody tr th:only-of-type {\n",
       "        vertical-align: middle;\n",
       "    }\n",
       "\n",
       "    .dataframe tbody tr th {\n",
       "        vertical-align: top;\n",
       "    }\n",
       "\n",
       "    .dataframe thead th {\n",
       "        text-align: right;\n",
       "    }\n",
       "</style>\n",
       "<table border=\"1\" class=\"dataframe\">\n",
       "  <thead>\n",
       "    <tr style=\"text-align: right;\">\n",
       "      <th></th>\n",
       "      <th>0</th>\n",
       "      <th>1</th>\n",
       "      <th>2</th>\n",
       "    </tr>\n",
       "  </thead>\n",
       "  <tbody>\n",
       "    <tr>\n",
       "      <th>0</th>\n",
       "      <td>model1</td>\n",
       "      <td>Train</td>\n",
       "      <td>0.902929</td>\n",
       "    </tr>\n",
       "  </tbody>\n",
       "</table>\n",
       "</div>"
      ],
      "text/plain": [
       "        0      1         2\n",
       "0  model1  Train  0.902929"
      ]
     },
     "execution_count": 191,
     "metadata": {},
     "output_type": "execute_result"
    }
   ],
   "source": [
    "performance1"
   ]
  },
  {
   "cell_type": "code",
   "execution_count": 199,
   "id": "63f94bc6-42d4-499c-ba0b-7485a9834285",
   "metadata": {},
   "outputs": [],
   "source": [
    "performance_data=pd.merge(performance1,performance2,how=\"outer\")"
   ]
  },
  {
   "cell_type": "code",
   "execution_count": 203,
   "id": "007010f2-82af-4843-ab52-6357880478cd",
   "metadata": {},
   "outputs": [],
   "source": [
    "performance_data=performance_data.set_index(performance_data.columns[0])"
   ]
  },
  {
   "cell_type": "code",
   "execution_count": 204,
   "id": "3ab27475-21d1-4d09-a12d-36d8a772b687",
   "metadata": {},
   "outputs": [],
   "source": [
    "performance_data.columns=[\"Dataset\",\"Accuracy\"]"
   ]
  },
  {
   "cell_type": "code",
   "execution_count": 206,
   "id": "893a7a89-1536-4fb9-925c-ab085ad02e0d",
   "metadata": {},
   "outputs": [],
   "source": [
    "performance_data[\"Nbr_of_dense_layer_used\"]=[4,3]"
   ]
  },
  {
   "cell_type": "code",
   "execution_count": 208,
   "id": "e7548091-6032-46b6-8169-78aed2f8cdf4",
   "metadata": {},
   "outputs": [],
   "source": [
    "performance_data.to_csv(\"performance_data.csv\")"
   ]
  },
  {
   "cell_type": "code",
   "execution_count": 211,
   "id": "b0cee610-53bb-46ed-aff8-ddb4dfd95030",
   "metadata": {},
   "outputs": [
    {
     "name": "stdout",
     "output_type": "stream",
     "text": [
      "Accuracy decreased. Stopping training.\n",
      "Epoch [18/2000], Accuracy: 0.758578431372549\n"
     ]
    }
   ],
   "source": [
    "# 1. Charger les données depuis le DataFrame\n",
    "# Exemple de données fictives\n",
    "\n",
    "# Définir la seed pour PyTorch\n",
    "torch.manual_seed(1996)\n",
    "# Convertir les données en tenseurs PyTorch\n",
    "tenseurs = torch.stack(Train_data['input_ids'].tolist())\n",
    "labels = torch.tensor(Train_data['labels'].tolist())\n",
    "input_len=78\n",
    "# Définir l'architecture du réseau de neurones\n",
    "class Classe_model2(nn.Module):\n",
    "    def __init__(self):\n",
    "        super(Classe_model2, self).__init__()\n",
    "        self.couche_lineaire_1 = nn.Linear(input_len, 39)  # Couche linéaire avec 10 entrées et 50 sorties\n",
    "        self.couche_lineaire_11 = nn.Linear(39, 10)  # Couche linéaire avec 10 entrées et 50 sorties\n",
    "\n",
    "        self.couche_lineaire_2 = nn.Linear(10, 2)   # Couche linéaire avec 50 entrées et 2 sorties (2 classes)\n",
    "\n",
    "    def forward(self, x):\n",
    "        x = torch.relu(self.couche_lineaire_1(x.float()))  # Convertir les tenseurs d'entrée en type torch.float\n",
    "        x = self.couche_lineaire_11(x)\n",
    "\n",
    "        x = self.couche_lineaire_2(x)             # Pas de fonction d'activation pour la dernière couche\n",
    "        return x\n",
    "\n",
    "# Créer un DataLoader pour les données d'entraînement\n",
    "dataset = TensorDataset(tenseurs, labels)\n",
    "train_loader = DataLoader(dataset, batch_size=10, shuffle=True)\n",
    "\n",
    "# Initialiser le modèle\n",
    "model2 = Classe_model2()\n",
    "\n",
    "# Définir la fonction de perte et l'optimiseur\n",
    "criterion = nn.CrossEntropyLoss()  # Fonction de perte pour les problèmes de classification\n",
    "optimizer = optim.Adam(model2.parameters(), lr=0.001)  # Optimiseur Adam avec un taux d'apprentissage de 0.001\n",
    "\n",
    "num_epochs=2000\n",
    "# Entraîner le modèle\n",
    "# Variables pour le calcul de l'exactitude\n",
    "total_correct = 0\n",
    "total_samples = 0\n",
    "\n",
    "# Initialiser l'exactitude précédente à zéro\n",
    "prev_accuracy = 0.0\n",
    "\n",
    "# Entraîner le modèle\n",
    "for epoch in range(num_epochs):\n",
    "    for batch_tenseurs, batch_labels in train_loader:\n",
    "        optimizer.zero_grad()\n",
    "        predictions = model2(batch_tenseurs)\n",
    "        loss = criterion(predictions, batch_labels)\n",
    "        loss.backward()\n",
    "        optimizer.step()\n",
    "\n",
    "        # Calculer les prédictions correctes\n",
    "        _, predicted = torch.max(predictions, 1)\n",
    "        total_correct += (predicted == batch_labels).sum().item()\n",
    "        total_samples += batch_labels.size(0)\n",
    "\n",
    "    # Calculer l'exactitude à la fin de chaque époque\n",
    "    accuracy = total_correct / total_samples\n",
    "    #print(f'Epoch [{epoch+1}/{num_epochs}], Accuracy: {accuracy}')\n",
    "\n",
    "    # Vérifier si l'exactitude diminue\n",
    "    if accuracy < prev_accuracy:\n",
    "        print(\"Accuracy decreased. Stopping training.\")\n",
    "        print(f'Epoch [{epoch+1}/{num_epochs}], Accuracy: {prev_accuracy}')\n",
    "\n",
    "        break\n",
    "    elif epoch+1==num_epochs:\n",
    "        print(f'Epoch [{epoch+1}/{num_epochs}], Accuracy: {accuracy}')\n",
    "    \n",
    "    # Mettre à jour l'exactitude précédente\n",
    "    prev_accuracy = accuracy\n",
    "    performance2=pd.DataFrame([\"model2\",\"Train\",prev_accuracy])\n",
    "\n",
    "    performance2\n",
    "\n"
   ]
  },
  {
   "cell_type": "code",
   "execution_count": 195,
   "id": "5a57b3cb-5f34-4e08-ae8b-e830b5f32f53",
   "metadata": {},
   "outputs": [],
   "source": [
    "#performance2=pd.DataFrame(performance2.values.transpose())\n",
    "performance2.to_csv(\"performance2.csv\")"
   ]
  },
  {
   "cell_type": "code",
   "execution_count": 212,
   "id": "722335ac-c870-4459-a68a-11bd1b05d21a",
   "metadata": {},
   "outputs": [],
   "source": [
    "def predictor(Test_data,model=reseau):\n",
    "# Charger vos nouvelles données dans un tenseur PyTorch (par exemple, Test_data)\n",
    "# Assume que Test_data est votre DataFrame contenant les nouvelles données\n",
    "\n",
    "# Convertir les données en tenseurs PyTorch\n",
    "       tenseurs_test = torch.stack(Test_data['input_ids'].tolist())\n",
    "       labels_array=Test_data.labels.values\n",
    "\n",
    "# Passer les tenseurs de données à travers votre modèle pour obtenir les prédictions\n",
    "       with torch.no_grad():\n",
    "        predictions = model(tenseurs_test)\n",
    "\n",
    "# Obtenir les prédictions et les valeurs réelles sous forme de listes ou tableaux NumPy\n",
    "       predictions_array = predictions.argmax(dim=1).numpy()\n",
    "       labels_array = Test_data['labels'].values\n",
    "\n",
    "# Créer un DataFrame pandas à partir des listes ou tableaux NumPy\n",
    "       results_df = pd.DataFrame({'valeurs_prédites': predictions_array, 'valeurs_réelles': labels_array})\n",
    "\n",
    "# Retourner le DataFrame avec les résultats\n",
    "       return results_df\n",
    "    "
   ]
  },
  {
   "cell_type": "code",
   "execution_count": 213,
   "id": "e6cba085-5f11-4a70-9efe-e216d593786e",
   "metadata": {},
   "outputs": [
    {
     "data": {
      "text/html": [
       "<div>\n",
       "<style scoped>\n",
       "    .dataframe tbody tr th:only-of-type {\n",
       "        vertical-align: middle;\n",
       "    }\n",
       "\n",
       "    .dataframe tbody tr th {\n",
       "        vertical-align: top;\n",
       "    }\n",
       "\n",
       "    .dataframe thead th {\n",
       "        text-align: right;\n",
       "    }\n",
       "</style>\n",
       "<table border=\"1\" class=\"dataframe\">\n",
       "  <thead>\n",
       "    <tr style=\"text-align: right;\">\n",
       "      <th></th>\n",
       "      <th>valeurs_prédites</th>\n",
       "      <th>valeurs_réelles</th>\n",
       "    </tr>\n",
       "  </thead>\n",
       "  <tbody>\n",
       "    <tr>\n",
       "      <th>0</th>\n",
       "      <td>1</td>\n",
       "      <td>0</td>\n",
       "    </tr>\n",
       "    <tr>\n",
       "      <th>1</th>\n",
       "      <td>0</td>\n",
       "      <td>0</td>\n",
       "    </tr>\n",
       "  </tbody>\n",
       "</table>\n",
       "</div>"
      ],
      "text/plain": [
       "   valeurs_prédites  valeurs_réelles\n",
       "0                 1                0\n",
       "1                 0                0"
      ]
     },
     "execution_count": 213,
     "metadata": {},
     "output_type": "execute_result"
    }
   ],
   "source": [
    "\n",
    "results_2=predictor(Test_data,model=model2)\n",
    "results_2.head(2)"
   ]
  },
  {
   "cell_type": "code",
   "execution_count": 150,
   "id": "311c04dd-3f10-494e-a1fd-d4146231d6c1",
   "metadata": {},
   "outputs": [],
   "source": [
    "def get_accuracy(results_df):\n",
    "    total_samples=results_df.shape[0]\n",
    "    total_correct=0\n",
    "    labels_true=results_df.valeurs_réelles\n",
    "    labels_pred=results_df.valeurs_prédites\n",
    "\n",
    "    total_correct += (labels_true==labels_pred).sum()\n",
    "    accuracy= total_correct / total_samples\n",
    "\n",
    "\n",
    "    # Calculer l'exactitude à la fin de chaque époque\n",
    "    return accuracy "
   ]
  },
  {
   "cell_type": "code",
   "execution_count": 151,
   "id": "5ba39809-1f82-4dc2-8554-641f75e8c548",
   "metadata": {},
   "outputs": [
    {
     "data": {
      "text/plain": [
       "0.5918367346938775"
      ]
     },
     "execution_count": 151,
     "metadata": {},
     "output_type": "execute_result"
    }
   ],
   "source": [
    "get_accuracy(results_df)"
   ]
  },
  {
   "cell_type": "code",
   "execution_count": 209,
   "id": "48a8f2de-bca2-4a86-a147-1d4c61559770",
   "metadata": {},
   "outputs": [],
   "source": [
    "from sklearn.metrics import confusion_matrix\n",
    "import seaborn as sns\n",
    "def plot_confug_matrix(results_df):\n",
    "        labels_true=results_df.valeurs_réelles\n",
    "        labels_pred=results_df.valeurs_prédites\n",
    "    # Calculer la matrice de confusion\n",
    "        conf_matrix = confusion_matrix(labels_true, labels_pred)\n",
    "        class_names = ['Classe 0', 'Classe 1']\n",
    "        plt.figure(figsize=(8, 6))\n",
    "        sns.set(font_scale=1.2)  # Ajuster la taille de la police\n",
    "        sns.heatmap(conf_matrix, annot=True, fmt='d', cmap='Blues', cbar=False, annot_kws={\"size\": 14}, xticklabels=class_names, yticklabels=class_names)\n",
    "        plt.xlabel('Classe prédite')\n",
    "        plt.ylabel('Classe réelle')\n",
    "        plt.title('Matrice de confusion')\n",
    "        plt.savefig('Matrice_de_confusion.png')\n",
    "\n",
    "        plt.show()\n"
   ]
  },
  {
   "cell_type": "code",
   "execution_count": 214,
   "id": "1fc3aff3-0dee-44ad-b330-70e27a2997e4",
   "metadata": {},
   "outputs": [
    {
     "data": {
      "image/png": "[encoded data removed]",
      "text/plain": [
       "<Figure size 800x600 with 1 Axes>"
      ]
     },
     "metadata": {},
     "output_type": "display_data"
    }
   ],
   "source": [
    "plot_confug_matrix(results_2)"
   ]
  },
  {
   "cell_type": "code",
   "execution_count": 161,
   "id": "d66a64e1-8bd8-43b8-849c-d5f4c1e51f1a",
   "metadata": {},
   "outputs": [
    {
     "data": {
      "text/plain": [
       "Index(['input_ids', 'labels'], dtype='object')"
      ]
     },
     "execution_count": 161,
     "metadata": {},
     "output_type": "execute_result"
    }
   ],
   "source": [
    "Final_input.columns"
   ]
  },
  {
   "cell_type": "markdown",
   "id": "ba8b0161-0f82-46a7-af50-738c22787e2a",
   "metadata": {},
   "source": [
    "# FIN DU PROJET"
   ]
  },
  {
   "cell_type": "markdown",
   "id": "8fe46731-8a11-4daa-b179-5d1b5befac3b",
   "metadata": {},
   "source": [
    "# AUTRE PISTES"
   ]
  },
  {
   "cell_type": "code",
   "execution_count": 1170,
   "id": "b9c1acd6-3d39-4921-a673-03202e43f4c9",
   "metadata": {},
   "outputs": [
    {
     "ename": "KeyError",
     "evalue": "'Prénom'",
     "output_type": "error",
     "traceback": [
      "\u001b[0;31m---------------------------------------------------------------------------\u001b[0m",
      "\u001b[0;31mKeyError\u001b[0m                                  Traceback (most recent call last)",
      "File \u001b[0;32m/opt/mamba/lib/python3.11/site-packages/pandas/core/indexes/base.py:3805\u001b[0m, in \u001b[0;36mIndex.get_loc\u001b[0;34m(self, key)\u001b[0m\n\u001b[1;32m   3804\u001b[0m \u001b[38;5;28;01mtry\u001b[39;00m:\n\u001b[0;32m-> 3805\u001b[0m     \u001b[38;5;28;01mreturn\u001b[39;00m \u001b[38;5;28;43mself\u001b[39;49m\u001b[38;5;241;43m.\u001b[39;49m\u001b[43m_engine\u001b[49m\u001b[38;5;241;43m.\u001b[39;49m\u001b[43mget_loc\u001b[49m\u001b[43m(\u001b[49m\u001b[43mcasted_key\u001b[49m\u001b[43m)\u001b[49m\n\u001b[1;32m   3806\u001b[0m \u001b[38;5;28;01mexcept\u001b[39;00m \u001b[38;5;167;01mKeyError\u001b[39;00m \u001b[38;5;28;01mas\u001b[39;00m err:\n",
      "File \u001b[0;32mindex.pyx:167\u001b[0m, in \u001b[0;36mpandas._libs.index.IndexEngine.get_loc\u001b[0;34m()\u001b[0m\n",
      "File \u001b[0;32mindex.pyx:196\u001b[0m, in \u001b[0;36mpandas._libs.index.IndexEngine.get_loc\u001b[0;34m()\u001b[0m\n",
      "File \u001b[0;32mpandas/_libs/hashtable_class_helper.pxi:7081\u001b[0m, in \u001b[0;36mpandas._libs.hashtable.PyObjectHashTable.get_item\u001b[0;34m()\u001b[0m\n",
      "File \u001b[0;32mpandas/_libs/hashtable_class_helper.pxi:7089\u001b[0m, in \u001b[0;36mpandas._libs.hashtable.PyObjectHashTable.get_item\u001b[0;34m()\u001b[0m\n",
      "\u001b[0;31mKeyError\u001b[0m: 'Prénom'",
      "\nThe above exception was the direct cause of the following exception:\n",
      "\u001b[0;31mKeyError\u001b[0m                                  Traceback (most recent call last)",
      "Cell \u001b[0;32mIn[1170], line 34\u001b[0m\n\u001b[1;32m     31\u001b[0m input_len \u001b[38;5;241m=\u001b[39m \u001b[38;5;241m68\u001b[39m\n\u001b[1;32m     33\u001b[0m \u001b[38;5;66;03m# Créer une liste de noms associés à chaque entrée (assumant que names est une liste associée à votre DataFrame)\u001b[39;00m\n\u001b[0;32m---> 34\u001b[0m prenoms\u001b[38;5;241m=\u001b[39m\u001b[38;5;28mlist\u001b[39m(\u001b[43mFinal_input\u001b[49m\u001b[43m[\u001b[49m\u001b[38;5;124;43m\"\u001b[39;49m\u001b[38;5;124;43mPrénom\u001b[39;49m\u001b[38;5;124;43m\"\u001b[39;49m\u001b[43m]\u001b[49m\u001b[38;5;241m.\u001b[39mvalues)\n\u001b[1;32m     35\u001b[0m \u001b[38;5;66;03m#names = [prenoms[i] + str(i) for i in range(len(tenseurs))]\u001b[39;00m\n\u001b[1;32m     36\u001b[0m names\u001b[38;5;241m=\u001b[39mFinal_input[\u001b[38;5;124m\"\u001b[39m\u001b[38;5;124mPrénom\u001b[39m\u001b[38;5;124m\"\u001b[39m]\u001b[38;5;241m.\u001b[39mvalues\n",
      "File \u001b[0;32m/opt/mamba/lib/python3.11/site-packages/pandas/core/frame.py:4102\u001b[0m, in \u001b[0;36mDataFrame.__getitem__\u001b[0;34m(self, key)\u001b[0m\n\u001b[1;32m   4100\u001b[0m \u001b[38;5;28;01mif\u001b[39;00m \u001b[38;5;28mself\u001b[39m\u001b[38;5;241m.\u001b[39mcolumns\u001b[38;5;241m.\u001b[39mnlevels \u001b[38;5;241m>\u001b[39m \u001b[38;5;241m1\u001b[39m:\n\u001b[1;32m   4101\u001b[0m     \u001b[38;5;28;01mreturn\u001b[39;00m \u001b[38;5;28mself\u001b[39m\u001b[38;5;241m.\u001b[39m_getitem_multilevel(key)\n\u001b[0;32m-> 4102\u001b[0m indexer \u001b[38;5;241m=\u001b[39m \u001b[38;5;28;43mself\u001b[39;49m\u001b[38;5;241;43m.\u001b[39;49m\u001b[43mcolumns\u001b[49m\u001b[38;5;241;43m.\u001b[39;49m\u001b[43mget_loc\u001b[49m\u001b[43m(\u001b[49m\u001b[43mkey\u001b[49m\u001b[43m)\u001b[49m\n\u001b[1;32m   4103\u001b[0m \u001b[38;5;28;01mif\u001b[39;00m is_integer(indexer):\n\u001b[1;32m   4104\u001b[0m     indexer \u001b[38;5;241m=\u001b[39m [indexer]\n",
      "File \u001b[0;32m/opt/mamba/lib/python3.11/site-packages/pandas/core/indexes/base.py:3812\u001b[0m, in \u001b[0;36mIndex.get_loc\u001b[0;34m(self, key)\u001b[0m\n\u001b[1;32m   3807\u001b[0m     \u001b[38;5;28;01mif\u001b[39;00m \u001b[38;5;28misinstance\u001b[39m(casted_key, \u001b[38;5;28mslice\u001b[39m) \u001b[38;5;129;01mor\u001b[39;00m (\n\u001b[1;32m   3808\u001b[0m         \u001b[38;5;28misinstance\u001b[39m(casted_key, abc\u001b[38;5;241m.\u001b[39mIterable)\n\u001b[1;32m   3809\u001b[0m         \u001b[38;5;129;01mand\u001b[39;00m \u001b[38;5;28many\u001b[39m(\u001b[38;5;28misinstance\u001b[39m(x, \u001b[38;5;28mslice\u001b[39m) \u001b[38;5;28;01mfor\u001b[39;00m x \u001b[38;5;129;01min\u001b[39;00m casted_key)\n\u001b[1;32m   3810\u001b[0m     ):\n\u001b[1;32m   3811\u001b[0m         \u001b[38;5;28;01mraise\u001b[39;00m InvalidIndexError(key)\n\u001b[0;32m-> 3812\u001b[0m     \u001b[38;5;28;01mraise\u001b[39;00m \u001b[38;5;167;01mKeyError\u001b[39;00m(key) \u001b[38;5;28;01mfrom\u001b[39;00m \u001b[38;5;21;01merr\u001b[39;00m\n\u001b[1;32m   3813\u001b[0m \u001b[38;5;28;01mexcept\u001b[39;00m \u001b[38;5;167;01mTypeError\u001b[39;00m:\n\u001b[1;32m   3814\u001b[0m     \u001b[38;5;66;03m# If we have a listlike key, _check_indexing_error will raise\u001b[39;00m\n\u001b[1;32m   3815\u001b[0m     \u001b[38;5;66;03m#  InvalidIndexError. Otherwise we fall through and re-raise\u001b[39;00m\n\u001b[1;32m   3816\u001b[0m     \u001b[38;5;66;03m#  the TypeError.\u001b[39;00m\n\u001b[1;32m   3817\u001b[0m     \u001b[38;5;28mself\u001b[39m\u001b[38;5;241m.\u001b[39m_check_indexing_error(key)\n",
      "\u001b[0;31mKeyError\u001b[0m: 'Prénom'"
     ]
    }
   ],
   "source": [
    "import torch\n",
    "import torch.nn as nn\n",
    "import torch.optim as optim\n",
    "from torch.utils.data import DataLoader, TensorDataset\n",
    "import pandas as pd\n",
    "import numpy as np\n",
    "\n",
    "# Définir la seed pour PyTorch\n",
    "torch.manual_seed(1996)\n",
    "# Définir une fonction pour ajuster les étiquettes en fonction des noms\n",
    "\n",
    "def adjust_labels(names):\n",
    "    adjusted_labels = []\n",
    "    for name in names:\n",
    "        # Déterminer le paramètre Bernoulli en fonction du nom\n",
    "        #param = hash(name) % 10 / 10  # Par exemple, utiliser le hachage du nom modulo 10 pour obtenir un paramètre entre 0 et 1\n",
    "        # Générer un échantillon Bernoulli en fonction du paramètre\n",
    "        param=Final_input.loc[name,\"Probas\"]\n",
    "        label = np.random.binomial(1, param)\n",
    "        # Ajouter l'étiquette ajustée à la liste\n",
    "        adjusted_labels.append(label)\n",
    "    return torch.tensor(adjusted_labels)\n",
    "\n",
    "# 1. Charger les données depuis le DataFrame\n",
    "# Exemple de données fictives\n",
    "# Assuming df2 is your DataFrame\n",
    "\n",
    "# Convertir les données en tenseurs PyTorch\n",
    "tenseurs = torch.stack(Final_input['input_ids'].tolist()[1:])\n",
    "labels = torch.tensor(Final_input['labels'].tolist()[1:])\n",
    "input_len = 78\n",
    "\n",
    "# Créer une liste de noms associés à chaque entrée (assumant que names est une liste associée à votre DataFrame)\n",
    "prenoms=list(Final_input[\"Prénom\"].values)\n",
    "#names = [prenoms[i] + str(i) for i in range(len(tenseurs))]\n",
    "names=Final_input[\"Prénom\"].values\n",
    "\n",
    "\n",
    "# 2. Définir l'architecture du réseau de neurones\n",
    "class ReseauDeNeurones(nn.Module):\n",
    "    def __init__(self):\n",
    "        super(ReseauDeNeurones, self).__init__()\n",
    "        self.couche_lineaire_1 = nn.Linear(input_len, 50)  # Couche linéaire avec 10 entrées et 50 sorties\n",
    "        self.couche_lineaire_2 = nn.Linear(50, 2)   # Couche linéaire avec 50 entrées et 2 sorties (2 classes)\n",
    "\n",
    "    def forward(self, x):\n",
    "        x = torch.relu(self.couche_lineaire_1(x.float()))  # Convertir les tenseurs d'entrée en type torch.float\n",
    "        x = self.couche_lineaire_2(x)             # Pas de fonction d'activation pour la dernière couche\n",
    "        return x\n",
    "\n",
    "# Créer un DataLoader pour les données d'entraînement\n",
    "dataset = TensorDataset(tenseurs, labels)\n",
    "train_loader = DataLoader(dataset, batch_size=10, shuffle=True)\n",
    "\n",
    "# Initialiser le modèle\n",
    "reseau = ReseauDeNeurones()\n",
    "\n",
    "# Définir la fonction de perte et l'optimiseur\n",
    "criterion = nn.CrossEntropyLoss()  # Fonction de perte pour les problèmes de classification\n",
    "optimizer = optim.Adam(reseau.parameters(), lr=0.001)  # Optimiseur Adam avec un taux d'apprentissage de 0.001\n",
    "\n",
    "num_epochs = 2000\n",
    "# Entraîner le modèle\n",
    "# Variables pour le calcul de l'exactitude\n",
    "total_samples = len(labels)\n",
    "\n",
    "# Entraîner le modèle\n",
    "for epoch in range(num_epochs):\n",
    "    total_correct = 0\n",
    "    for batch_tenseurs, batch_labels in train_loader:\n",
    "        optimizer.zero_grad()\n",
    "        predictions = reseau(batch_tenseurs)\n",
    "        # Ajuster les étiquettes en fonction des noms\n",
    "        adjusted_labels = adjust_labels(names)\n",
    "        loss = criterion(predictions, adjusted_labels)\n",
    "        loss.backward()\n",
    "        optimizer.step()\n",
    "\n",
    "        # Calculer les prédictions correctes\n",
    "        _, predicted = torch.max(predictions, 1)\n",
    "        total_correct += (predicted == adjusted_labels).sum().item()\n",
    "\n",
    "    # Calculer l'exactitude à la fin de chaque époque\n",
    "    accuracy = total_correct / total_samples\n",
    "\n",
    "    # Vérifier si l'exactitude diminue\n",
    "    if accuracy < prev_accuracy:\n",
    "        print(\"Accuracy decreased. Stopping training.\")\n",
    "        print(f'Epoch [{epoch+1}/{num_epochs}], Accuracy: {prev_accuracy}')\n",
    "\n",
    "        break\n",
    "    elif epoch + 1 == num_epochs:\n",
    "        print(f'Epoch [{epoch+1}/{num_epochs}], Accuracy: {accuracy}')\n",
    "\n",
    "    # Mettre à jour l'exactitude précédente\n",
    "    prev_accuracy = accuracy\n"
   ]
  },
  {
   "cell_type": "code",
   "execution_count": null,
   "id": "e6ce4818-4ad3-4899-b40b-8e2dcec2b557",
   "metadata": {},
   "outputs": [],
   "source": [
    "X=Final_input[\"input_ids\"].apply(lambda x :list(x.numpy()))\n",
    "X=list(X)\n"
   ]
  },
  {
   "cell_type": "code",
   "execution_count": null,
   "id": "df8177ee-c6b9-443f-845e-9e51325b7235",
   "metadata": {},
   "outputs": [],
   "source": [
    "X=np.array(X)"
   ]
  },
  {
   "cell_type": "code",
   "execution_count": null,
   "id": "c66cfa04-0ead-4f28-b1f6-98229c27b297",
   "metadata": {},
   "outputs": [],
   "source": [
    "X.shape"
   ]
  },
  {
   "cell_type": "code",
   "execution_count": null,
   "id": "65ef7021-33f0-4f1d-b884-b3ebe589bab2",
   "metadata": {},
   "outputs": [],
   "source": [
    "y=Final_input.labels.values\n",
    "y.shape"
   ]
  },
  {
   "cell_type": "code",
   "execution_count": null,
   "id": "13da2aca-26ae-4d13-bfbd-5ea70329b5b3",
   "metadata": {},
   "outputs": [],
   "source": [
    "# Importer les bibliothèques nécessaires\n",
    "import numpy as np\n",
    "from sklearn.model_selection import train_test_split\n",
    "from sklearn.linear_model import LogisticRegression\n",
    "from sklearn.metrics import accuracy_score, confusion_matrix\n",
    "\n",
    "# Générer des données d'exemple\n",
    "\n",
    "# Diviser les données en ensembles d'entraînement et de test\n",
    "X_train, X_test, y_train, y_test = train_test_split(X, y, test_size=0.2, random_state=42)\n",
    "\n",
    "# Initialiser le modèle de classification (par exemple, régression logistique)\n",
    "model = LogisticRegression()\n",
    "\n",
    "# Entraîner le modèle sur les données d'entraînement\n",
    "model.fit(X_train, y_train)\n",
    "\n",
    "# Faire des prédictions sur l'ensemble de test\n",
    "y_pred = model.predict(X_test)\n",
    "\n",
    "# Calculer l'exactitude du modèle\n",
    "accuracy = accuracy_score(y_test, y_pred)\n",
    "print(\"Accuracy:\", accuracy)\n",
    "\n",
    "# Afficher la matrice de confusion\n",
    "conf_matrix = confusion_matrix(y_test, y_pred)\n",
    "print(\"Confusion Matrix:\")\n",
    "print(conf_matrix)\n"
   ]
  }
 ],
 "metadata": {
  "kernelspec": {
   "display_name": "Python 3 (ipykernel)",
   "language": "python",
   "name": "python3"
  },
  "language_info": {
   "codemirror_mode": {
    "name": "ipython",
    "version": 3
   },
   "file_extension": ".py",
   "mimetype": "text/x-python",
   "name": "python",
   "nbconvert_exporter": "python",
   "pygments_lexer": "ipython3",
   "version": "3.12.2"
  }
 },
 "nbformat": 4,
 "nbformat_minor": 5
}
